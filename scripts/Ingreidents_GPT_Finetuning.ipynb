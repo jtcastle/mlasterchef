{
  "cells": [
    {
      "cell_type": "markdown",
      "metadata": {
        "id": "BKSgxl8aL-zQ"
      },
      "source": []
    },
    {
      "cell_type": "markdown",
      "metadata": {
        "id": "Z7D5sCMDmCE_"
      },
      "source": [
        "# Loading Neccessary Libraries"
      ]
    },
    {
      "cell_type": "code",
      "execution_count": 2,
      "metadata": {
        "colab": {
          "base_uri": "https://localhost:8080/"
        },
        "id": "0Y3wWropmODF",
        "outputId": "e5da82a0-7787-411e-f2e7-ebce7d637e55"
      },
      "outputs": [
        {
          "ename": "ModuleNotFoundError",
          "evalue": "No module named 'google'",
          "output_type": "error",
          "traceback": [
            "\u001b[0;31m---------------------------------------------------------------------------\u001b[0m",
            "\u001b[0;31mModuleNotFoundError\u001b[0m                       Traceback (most recent call last)",
            "\u001b[1;32m/Users/phoebe/Documents/mlasterchef/scripts/Ingreidents_GPT_Finetuning.ipynb Cell 3'\u001b[0m in \u001b[0;36m<cell line: 1>\u001b[0;34m()\u001b[0m\n\u001b[0;32m----> <a href='vscode-notebook-cell:/Users/phoebe/Documents/mlasterchef/scripts/Ingreidents_GPT_Finetuning.ipynb#ch0000002?line=0'>1</a>\u001b[0m \u001b[39mfrom\u001b[39;00m \u001b[39mgoogle\u001b[39;00m\u001b[39m.\u001b[39;00m\u001b[39mcolab\u001b[39;00m \u001b[39mimport\u001b[39;00m drive\n\u001b[1;32m      <a href='vscode-notebook-cell:/Users/phoebe/Documents/mlasterchef/scripts/Ingreidents_GPT_Finetuning.ipynb#ch0000002?line=1'>2</a>\u001b[0m drive\u001b[39m.\u001b[39mmount(\u001b[39m'\u001b[39m\u001b[39m/content/drive\u001b[39m\u001b[39m'\u001b[39m)\n",
            "\u001b[0;31mModuleNotFoundError\u001b[0m: No module named 'google'"
          ]
        }
      ],
      "source": [
        "from google.colab import drive\n",
        "drive.mount('/content/drive')"
      ]
    },
    {
      "cell_type": "code",
      "execution_count": 2,
      "metadata": {
        "colab": {
          "base_uri": "https://localhost:8080/"
        },
        "id": "qNYqWzX1meWR",
        "outputId": "a571e6a9-6c7c-49dc-deee-0fbc679a2a08"
      },
      "outputs": [
        {
          "name": "stdout",
          "output_type": "stream",
          "text": [
            "/content/drive/.shortcut-targets-by-id/1rWir05GtWo7aaR3D3LOrh_ESmztzjuTj/MLasterChef/RecipeBox\n"
          ]
        }
      ],
      "source": [
        "cd drive/MyDrive/MLasterChef/RecipeBox"
      ]
    },
    {
      "cell_type": "code",
      "execution_count": 6,
      "metadata": {},
      "outputs": [
        {
          "ename": "FileNotFoundError",
          "evalue": "[Errno 2] No such file or directory: 'mdb-tables'",
          "output_type": "error",
          "traceback": [
            "\u001b[0;31m---------------------------------------------------------------------------\u001b[0m",
            "\u001b[0;31mFileNotFoundError\u001b[0m                         Traceback (most recent call last)",
            "\u001b[1;32m/Users/phoebe/Documents/mlasterchef/scripts/Ingreidents_GPT_Finetuning.ipynb Cell 5'\u001b[0m in \u001b[0;36m<cell line: 6>\u001b[0;34m()\u001b[0m\n\u001b[1;32m      <a href='vscode-notebook-cell:/Users/phoebe/Documents/mlasterchef/scripts/Ingreidents_GPT_Finetuning.ipynb#ch0000022?line=2'>3</a>\u001b[0m val_data_filepath \u001b[39m=\u001b[39m \u001b[39m\"\u001b[39m\u001b[39m/Downloads/val/val_lmdb/data.mdb\u001b[39m\u001b[39m\"\u001b[39m\n\u001b[1;32m      <a href='vscode-notebook-cell:/Users/phoebe/Documents/mlasterchef/scripts/Ingreidents_GPT_Finetuning.ipynb#ch0000022?line=4'>5</a>\u001b[0m \u001b[39m# Listing the tables.\u001b[39;00m\n\u001b[0;32m----> <a href='vscode-notebook-cell:/Users/phoebe/Documents/mlasterchef/scripts/Ingreidents_GPT_Finetuning.ipynb#ch0000022?line=5'>6</a>\u001b[0m \u001b[39mfor\u001b[39;00m tbl \u001b[39min\u001b[39;00m mdb\u001b[39m.\u001b[39;49mlist_tables(val_data_filepath):\n\u001b[1;32m      <a href='vscode-notebook-cell:/Users/phoebe/Documents/mlasterchef/scripts/Ingreidents_GPT_Finetuning.ipynb#ch0000022?line=6'>7</a>\u001b[0m     \u001b[39mprint\u001b[39m(tbl)\n\u001b[1;32m      <a href='vscode-notebook-cell:/Users/phoebe/Documents/mlasterchef/scripts/Ingreidents_GPT_Finetuning.ipynb#ch0000022?line=8'>9</a>\u001b[0m \u001b[39m# Read a small table.\u001b[39;00m\n",
            "File \u001b[0;32m~/Library/Python/3.8/lib/python/site-packages/pandas_access/__init__.py:25\u001b[0m, in \u001b[0;36mlist_tables\u001b[0;34m(rdb_file, encoding)\u001b[0m\n\u001b[1;32m     <a href='file:///Users/phoebe/Library/Python/3.8/lib/python/site-packages/pandas_access/__init__.py?line=16'>17</a>\u001b[0m \u001b[39mdef\u001b[39;00m \u001b[39mlist_tables\u001b[39m(rdb_file, encoding\u001b[39m=\u001b[39m\u001b[39m\"\u001b[39m\u001b[39mlatin-1\u001b[39m\u001b[39m\"\u001b[39m):\n\u001b[1;32m     <a href='file:///Users/phoebe/Library/Python/3.8/lib/python/site-packages/pandas_access/__init__.py?line=17'>18</a>\u001b[0m     \u001b[39m\"\"\"\u001b[39;00m\n\u001b[1;32m     <a href='file:///Users/phoebe/Library/Python/3.8/lib/python/site-packages/pandas_access/__init__.py?line=18'>19</a>\u001b[0m \u001b[39m    :param rdb_file: The MS Access database file.\u001b[39;00m\n\u001b[1;32m     <a href='file:///Users/phoebe/Library/Python/3.8/lib/python/site-packages/pandas_access/__init__.py?line=19'>20</a>\u001b[0m \u001b[39m    :param encoding: The content encoding of the output. I assume `latin-1`\u001b[39;00m\n\u001b[0;32m   (...)\u001b[0m\n\u001b[1;32m     <a href='file:///Users/phoebe/Library/Python/3.8/lib/python/site-packages/pandas_access/__init__.py?line=22'>23</a>\u001b[0m \u001b[39m    :return: A list of the tables in a given database.\u001b[39;00m\n\u001b[1;32m     <a href='file:///Users/phoebe/Library/Python/3.8/lib/python/site-packages/pandas_access/__init__.py?line=23'>24</a>\u001b[0m \u001b[39m    \"\"\"\u001b[39;00m\n\u001b[0;32m---> <a href='file:///Users/phoebe/Library/Python/3.8/lib/python/site-packages/pandas_access/__init__.py?line=24'>25</a>\u001b[0m     tables \u001b[39m=\u001b[39m subprocess\u001b[39m.\u001b[39;49mcheck_output([\u001b[39m'\u001b[39;49m\u001b[39mmdb-tables\u001b[39;49m\u001b[39m'\u001b[39;49m, rdb_file])\u001b[39m.\u001b[39mdecode(encoding)\n\u001b[1;32m     <a href='file:///Users/phoebe/Library/Python/3.8/lib/python/site-packages/pandas_access/__init__.py?line=25'>26</a>\u001b[0m     \u001b[39mreturn\u001b[39;00m tables\u001b[39m.\u001b[39mstrip()\u001b[39m.\u001b[39msplit(\u001b[39m\"\u001b[39m\u001b[39m \u001b[39m\u001b[39m\"\u001b[39m)\n",
            "File \u001b[0;32m/Applications/Xcode.app/Contents/Developer/Library/Frameworks/Python3.framework/Versions/3.8/lib/python3.8/subprocess.py:415\u001b[0m, in \u001b[0;36mcheck_output\u001b[0;34m(timeout, *popenargs, **kwargs)\u001b[0m\n\u001b[1;32m    <a href='file:///Applications/Xcode.app/Contents/Developer/Library/Frameworks/Python3.framework/Versions/3.8/lib/python3.8/subprocess.py?line=411'>412</a>\u001b[0m         empty \u001b[39m=\u001b[39m \u001b[39mb\u001b[39m\u001b[39m'\u001b[39m\u001b[39m'\u001b[39m\n\u001b[1;32m    <a href='file:///Applications/Xcode.app/Contents/Developer/Library/Frameworks/Python3.framework/Versions/3.8/lib/python3.8/subprocess.py?line=412'>413</a>\u001b[0m     kwargs[\u001b[39m'\u001b[39m\u001b[39minput\u001b[39m\u001b[39m'\u001b[39m] \u001b[39m=\u001b[39m empty\n\u001b[0;32m--> <a href='file:///Applications/Xcode.app/Contents/Developer/Library/Frameworks/Python3.framework/Versions/3.8/lib/python3.8/subprocess.py?line=414'>415</a>\u001b[0m \u001b[39mreturn\u001b[39;00m run(\u001b[39m*\u001b[39;49mpopenargs, stdout\u001b[39m=\u001b[39;49mPIPE, timeout\u001b[39m=\u001b[39;49mtimeout, check\u001b[39m=\u001b[39;49m\u001b[39mTrue\u001b[39;49;00m,\n\u001b[1;32m    <a href='file:///Applications/Xcode.app/Contents/Developer/Library/Frameworks/Python3.framework/Versions/3.8/lib/python3.8/subprocess.py?line=415'>416</a>\u001b[0m            \u001b[39m*\u001b[39;49m\u001b[39m*\u001b[39;49mkwargs)\u001b[39m.\u001b[39mstdout\n",
            "File \u001b[0;32m/Applications/Xcode.app/Contents/Developer/Library/Frameworks/Python3.framework/Versions/3.8/lib/python3.8/subprocess.py:493\u001b[0m, in \u001b[0;36mrun\u001b[0;34m(input, capture_output, timeout, check, *popenargs, **kwargs)\u001b[0m\n\u001b[1;32m    <a href='file:///Applications/Xcode.app/Contents/Developer/Library/Frameworks/Python3.framework/Versions/3.8/lib/python3.8/subprocess.py?line=489'>490</a>\u001b[0m     kwargs[\u001b[39m'\u001b[39m\u001b[39mstdout\u001b[39m\u001b[39m'\u001b[39m] \u001b[39m=\u001b[39m PIPE\n\u001b[1;32m    <a href='file:///Applications/Xcode.app/Contents/Developer/Library/Frameworks/Python3.framework/Versions/3.8/lib/python3.8/subprocess.py?line=490'>491</a>\u001b[0m     kwargs[\u001b[39m'\u001b[39m\u001b[39mstderr\u001b[39m\u001b[39m'\u001b[39m] \u001b[39m=\u001b[39m PIPE\n\u001b[0;32m--> <a href='file:///Applications/Xcode.app/Contents/Developer/Library/Frameworks/Python3.framework/Versions/3.8/lib/python3.8/subprocess.py?line=492'>493</a>\u001b[0m \u001b[39mwith\u001b[39;00m Popen(\u001b[39m*\u001b[39;49mpopenargs, \u001b[39m*\u001b[39;49m\u001b[39m*\u001b[39;49mkwargs) \u001b[39mas\u001b[39;00m process:\n\u001b[1;32m    <a href='file:///Applications/Xcode.app/Contents/Developer/Library/Frameworks/Python3.framework/Versions/3.8/lib/python3.8/subprocess.py?line=493'>494</a>\u001b[0m     \u001b[39mtry\u001b[39;00m:\n\u001b[1;32m    <a href='file:///Applications/Xcode.app/Contents/Developer/Library/Frameworks/Python3.framework/Versions/3.8/lib/python3.8/subprocess.py?line=494'>495</a>\u001b[0m         stdout, stderr \u001b[39m=\u001b[39m process\u001b[39m.\u001b[39mcommunicate(\u001b[39minput\u001b[39m, timeout\u001b[39m=\u001b[39mtimeout)\n",
            "File \u001b[0;32m/Applications/Xcode.app/Contents/Developer/Library/Frameworks/Python3.framework/Versions/3.8/lib/python3.8/subprocess.py:858\u001b[0m, in \u001b[0;36mPopen.__init__\u001b[0;34m(self, args, bufsize, executable, stdin, stdout, stderr, preexec_fn, close_fds, shell, cwd, env, universal_newlines, startupinfo, creationflags, restore_signals, start_new_session, pass_fds, encoding, errors, text)\u001b[0m\n\u001b[1;32m    <a href='file:///Applications/Xcode.app/Contents/Developer/Library/Frameworks/Python3.framework/Versions/3.8/lib/python3.8/subprocess.py?line=853'>854</a>\u001b[0m         \u001b[39mif\u001b[39;00m \u001b[39mself\u001b[39m\u001b[39m.\u001b[39mtext_mode:\n\u001b[1;32m    <a href='file:///Applications/Xcode.app/Contents/Developer/Library/Frameworks/Python3.framework/Versions/3.8/lib/python3.8/subprocess.py?line=854'>855</a>\u001b[0m             \u001b[39mself\u001b[39m\u001b[39m.\u001b[39mstderr \u001b[39m=\u001b[39m io\u001b[39m.\u001b[39mTextIOWrapper(\u001b[39mself\u001b[39m\u001b[39m.\u001b[39mstderr,\n\u001b[1;32m    <a href='file:///Applications/Xcode.app/Contents/Developer/Library/Frameworks/Python3.framework/Versions/3.8/lib/python3.8/subprocess.py?line=855'>856</a>\u001b[0m                     encoding\u001b[39m=\u001b[39mencoding, errors\u001b[39m=\u001b[39merrors)\n\u001b[0;32m--> <a href='file:///Applications/Xcode.app/Contents/Developer/Library/Frameworks/Python3.framework/Versions/3.8/lib/python3.8/subprocess.py?line=857'>858</a>\u001b[0m     \u001b[39mself\u001b[39;49m\u001b[39m.\u001b[39;49m_execute_child(args, executable, preexec_fn, close_fds,\n\u001b[1;32m    <a href='file:///Applications/Xcode.app/Contents/Developer/Library/Frameworks/Python3.framework/Versions/3.8/lib/python3.8/subprocess.py?line=858'>859</a>\u001b[0m                         pass_fds, cwd, env,\n\u001b[1;32m    <a href='file:///Applications/Xcode.app/Contents/Developer/Library/Frameworks/Python3.framework/Versions/3.8/lib/python3.8/subprocess.py?line=859'>860</a>\u001b[0m                         startupinfo, creationflags, shell,\n\u001b[1;32m    <a href='file:///Applications/Xcode.app/Contents/Developer/Library/Frameworks/Python3.framework/Versions/3.8/lib/python3.8/subprocess.py?line=860'>861</a>\u001b[0m                         p2cread, p2cwrite,\n\u001b[1;32m    <a href='file:///Applications/Xcode.app/Contents/Developer/Library/Frameworks/Python3.framework/Versions/3.8/lib/python3.8/subprocess.py?line=861'>862</a>\u001b[0m                         c2pread, c2pwrite,\n\u001b[1;32m    <a href='file:///Applications/Xcode.app/Contents/Developer/Library/Frameworks/Python3.framework/Versions/3.8/lib/python3.8/subprocess.py?line=862'>863</a>\u001b[0m                         errread, errwrite,\n\u001b[1;32m    <a href='file:///Applications/Xcode.app/Contents/Developer/Library/Frameworks/Python3.framework/Versions/3.8/lib/python3.8/subprocess.py?line=863'>864</a>\u001b[0m                         restore_signals, start_new_session)\n\u001b[1;32m    <a href='file:///Applications/Xcode.app/Contents/Developer/Library/Frameworks/Python3.framework/Versions/3.8/lib/python3.8/subprocess.py?line=864'>865</a>\u001b[0m \u001b[39mexcept\u001b[39;00m:\n\u001b[1;32m    <a href='file:///Applications/Xcode.app/Contents/Developer/Library/Frameworks/Python3.framework/Versions/3.8/lib/python3.8/subprocess.py?line=865'>866</a>\u001b[0m     \u001b[39m# Cleanup if the child failed starting.\u001b[39;00m\n\u001b[1;32m    <a href='file:///Applications/Xcode.app/Contents/Developer/Library/Frameworks/Python3.framework/Versions/3.8/lib/python3.8/subprocess.py?line=866'>867</a>\u001b[0m     \u001b[39mfor\u001b[39;00m f \u001b[39min\u001b[39;00m \u001b[39mfilter\u001b[39m(\u001b[39mNone\u001b[39;00m, (\u001b[39mself\u001b[39m\u001b[39m.\u001b[39mstdin, \u001b[39mself\u001b[39m\u001b[39m.\u001b[39mstdout, \u001b[39mself\u001b[39m\u001b[39m.\u001b[39mstderr)):\n",
            "File \u001b[0;32m/Applications/Xcode.app/Contents/Developer/Library/Frameworks/Python3.framework/Versions/3.8/lib/python3.8/subprocess.py:1704\u001b[0m, in \u001b[0;36mPopen._execute_child\u001b[0;34m(self, args, executable, preexec_fn, close_fds, pass_fds, cwd, env, startupinfo, creationflags, shell, p2cread, p2cwrite, c2pread, c2pwrite, errread, errwrite, restore_signals, start_new_session)\u001b[0m\n\u001b[1;32m   <a href='file:///Applications/Xcode.app/Contents/Developer/Library/Frameworks/Python3.framework/Versions/3.8/lib/python3.8/subprocess.py?line=1701'>1702</a>\u001b[0m     \u001b[39mif\u001b[39;00m errno_num \u001b[39m!=\u001b[39m \u001b[39m0\u001b[39m:\n\u001b[1;32m   <a href='file:///Applications/Xcode.app/Contents/Developer/Library/Frameworks/Python3.framework/Versions/3.8/lib/python3.8/subprocess.py?line=1702'>1703</a>\u001b[0m         err_msg \u001b[39m=\u001b[39m os\u001b[39m.\u001b[39mstrerror(errno_num)\n\u001b[0;32m-> <a href='file:///Applications/Xcode.app/Contents/Developer/Library/Frameworks/Python3.framework/Versions/3.8/lib/python3.8/subprocess.py?line=1703'>1704</a>\u001b[0m     \u001b[39mraise\u001b[39;00m child_exception_type(errno_num, err_msg, err_filename)\n\u001b[1;32m   <a href='file:///Applications/Xcode.app/Contents/Developer/Library/Frameworks/Python3.framework/Versions/3.8/lib/python3.8/subprocess.py?line=1704'>1705</a>\u001b[0m \u001b[39mraise\u001b[39;00m child_exception_type(err_msg)\n",
            "\u001b[0;31mFileNotFoundError\u001b[0m: [Errno 2] No such file or directory: 'mdb-tables'"
          ]
        }
      ],
      "source": [
        "import pandas_access as mdb\n",
        "\n",
        "val_data_filepath = \"/Downloads/val/val_lmdb/data.mdb\"\n",
        "\n",
        "# Listing the tables.\n",
        "for tbl in mdb.list_tables(val_data_filepath):\n",
        "    print(tbl)\n",
        "\n",
        "# Read a small table.\n",
        "df = pandas_access.read_table(val_data_filepath, \"MyTable\")\n",
        "\n",
        "# Read a huge table.\n",
        "#accumulator = []\n",
        "#for chunk in pandas_access.read_table(\"my.mdb\", \"MyTable\", chunksize=10000):\n",
        "#    accumulator.append(f(chunk))\n"
      ]
    },
    {
      "cell_type": "code",
      "execution_count": 3,
      "metadata": {
        "colab": {
          "base_uri": "https://localhost:8080/"
        },
        "id": "iTyFlrd4y17k",
        "outputId": "3fc72a5e-e820-4ad0-9b5a-946cace50e5a"
      },
      "outputs": [
        {
          "name": "stdout",
          "output_type": "stream",
          "text": [
            "Collecting transformers\n",
            "  Downloading transformers-4.16.2-py3-none-any.whl (3.5 MB)\n",
            "\u001b[K     |████████████████████████████████| 3.5 MB 4.3 MB/s \n",
            "\u001b[?25hCollecting tokenizers!=0.11.3,>=0.10.1\n",
            "  Downloading tokenizers-0.11.5-cp37-cp37m-manylinux_2_12_x86_64.manylinux2010_x86_64.whl (6.8 MB)\n",
            "\u001b[K     |████████████████████████████████| 6.8 MB 35.8 MB/s \n",
            "\u001b[?25hRequirement already satisfied: importlib-metadata in /usr/local/lib/python3.7/dist-packages (from transformers) (4.11.0)\n",
            "Requirement already satisfied: regex!=2019.12.17 in /usr/local/lib/python3.7/dist-packages (from transformers) (2019.12.20)\n",
            "Collecting sacremoses\n",
            "  Downloading sacremoses-0.0.47-py2.py3-none-any.whl (895 kB)\n",
            "\u001b[K     |████████████████████████████████| 895 kB 45.7 MB/s \n",
            "\u001b[?25hRequirement already satisfied: packaging>=20.0 in /usr/local/lib/python3.7/dist-packages (from transformers) (21.3)\n",
            "Requirement already satisfied: tqdm>=4.27 in /usr/local/lib/python3.7/dist-packages (from transformers) (4.62.3)\n",
            "Requirement already satisfied: filelock in /usr/local/lib/python3.7/dist-packages (from transformers) (3.4.2)\n",
            "Collecting huggingface-hub<1.0,>=0.1.0\n",
            "  Downloading huggingface_hub-0.4.0-py3-none-any.whl (67 kB)\n",
            "\u001b[K     |████████████████████████████████| 67 kB 5.4 MB/s \n",
            "\u001b[?25hRequirement already satisfied: requests in /usr/local/lib/python3.7/dist-packages (from transformers) (2.23.0)\n",
            "Collecting pyyaml>=5.1\n",
            "  Downloading PyYAML-6.0-cp37-cp37m-manylinux_2_5_x86_64.manylinux1_x86_64.manylinux_2_12_x86_64.manylinux2010_x86_64.whl (596 kB)\n",
            "\u001b[K     |████████████████████████████████| 596 kB 54.8 MB/s \n",
            "\u001b[?25hRequirement already satisfied: numpy>=1.17 in /usr/local/lib/python3.7/dist-packages (from transformers) (1.21.5)\n",
            "Requirement already satisfied: typing-extensions>=3.7.4.3 in /usr/local/lib/python3.7/dist-packages (from huggingface-hub<1.0,>=0.1.0->transformers) (3.10.0.2)\n",
            "Requirement already satisfied: pyparsing!=3.0.5,>=2.0.2 in /usr/local/lib/python3.7/dist-packages (from packaging>=20.0->transformers) (3.0.7)\n",
            "Requirement already satisfied: zipp>=0.5 in /usr/local/lib/python3.7/dist-packages (from importlib-metadata->transformers) (3.7.0)\n",
            "Requirement already satisfied: chardet<4,>=3.0.2 in /usr/local/lib/python3.7/dist-packages (from requests->transformers) (3.0.4)\n",
            "Requirement already satisfied: certifi>=2017.4.17 in /usr/local/lib/python3.7/dist-packages (from requests->transformers) (2021.10.8)\n",
            "Requirement already satisfied: idna<3,>=2.5 in /usr/local/lib/python3.7/dist-packages (from requests->transformers) (2.10)\n",
            "Requirement already satisfied: urllib3!=1.25.0,!=1.25.1,<1.26,>=1.21.1 in /usr/local/lib/python3.7/dist-packages (from requests->transformers) (1.24.3)\n",
            "Requirement already satisfied: click in /usr/local/lib/python3.7/dist-packages (from sacremoses->transformers) (7.1.2)\n",
            "Requirement already satisfied: six in /usr/local/lib/python3.7/dist-packages (from sacremoses->transformers) (1.15.0)\n",
            "Requirement already satisfied: joblib in /usr/local/lib/python3.7/dist-packages (from sacremoses->transformers) (1.1.0)\n",
            "Installing collected packages: pyyaml, tokenizers, sacremoses, huggingface-hub, transformers\n",
            "  Attempting uninstall: pyyaml\n",
            "    Found existing installation: PyYAML 3.13\n",
            "    Uninstalling PyYAML-3.13:\n",
            "      Successfully uninstalled PyYAML-3.13\n",
            "Successfully installed huggingface-hub-0.4.0 pyyaml-6.0 sacremoses-0.0.47 tokenizers-0.11.5 transformers-4.16.2\n"
          ]
        }
      ],
      "source": [
        "pip install transformers"
      ]
    },
    {
      "cell_type": "code",
      "execution_count": 4,
      "metadata": {
        "colab": {
          "base_uri": "https://localhost:8080/"
        },
        "id": "9BKrQ4D_mCFG",
        "outputId": "3960060c-5c13-4470-8acd-b928c57b4451"
      },
      "outputs": [
        {
          "name": "stdout",
          "output_type": "stream",
          "text": [
            "[nltk_data] Downloading package punkt to /root/nltk_data...\n",
            "[nltk_data]   Unzipping tokenizers/punkt.zip.\n"
          ]
        }
      ],
      "source": [
        "import numpy as np\n",
        "import pandas as pd\n",
        "import ast\n",
        "\n",
        "import matplotlib.pyplot as plt\n",
        "import matplotlib.pyplot as plt\n",
        "from sklearn.metrics import accuracy_score\n",
        "# from sklearn.model_selection import train_test_split\n",
        "from sklearn.ensemble import GradientBoostingClassifier\n",
        "from sklearn.base import TransformerMixin, BaseEstimator\n",
        "from sklearn.feature_extraction.text import CountVectorizer\n",
        "\n",
        "import copy\n",
        "import operator\n",
        "import datetime\n",
        "import warnings\n",
        "from itertools import product\n",
        "warnings.filterwarnings(\"ignore\")\n",
        "\n",
        "import tensorflow as tf\n",
        "from transformers import TFGPT2LMHeadModel, GPT2Tokenizer\n",
        "\n",
        "\n",
        "\n",
        "import os\n",
        "import time\n",
        "import datetime\n",
        "from google.colab import drive\n",
        "\n",
        "import pandas as pd\n",
        "import seaborn as sns\n",
        "import numpy as np\n",
        "import random\n",
        "\n",
        "import matplotlib.pyplot as plt\n",
        "% matplotlib inline\n",
        "\n",
        "import torch\n",
        "from torch.utils.data import Dataset, DataLoader, random_split, RandomSampler, SequentialSampler\n",
        "torch.manual_seed(42)\n",
        "\n",
        "from transformers import GPT2LMHeadModel,  GPT2Tokenizer, GPT2Config, GPT2LMHeadModel\n",
        "from transformers import AdamW, get_linear_schedule_with_warmup\n",
        "\n",
        "import nltk\n",
        "nltk.download('punkt')\n",
        "\n",
        "\n",
        "\n",
        "import _pickle as pickle\n",
        "from os import path"
      ]
    },
    {
      "cell_type": "code",
      "execution_count": 5,
      "metadata": {
        "id": "MVi3u3nUwOf_"
      },
      "outputs": [],
      "source": [
        "import _pickle as pickle\n",
        "from os import path"
      ]
    },
    {
      "cell_type": "markdown",
      "metadata": {
        "id": "7wUVNjs1mCFI"
      },
      "source": [
        "# Loading the Data\n",
        "We will not use `PP_recipies.csv` and `PP_users.csv` but instead will vectorize the data ourselves. The index columns of this dataset is kind of confusing since there are two columns (`u` and `user_id`) for user ids and two columns (`i` and `recipe_id`) for recipe ids."
      ]
    },
    {
      "cell_type": "code",
      "execution_count": 6,
      "metadata": {
        "colab": {
          "base_uri": "https://localhost:8080/",
          "height": 441
        },
        "id": "QAX6tMFmMqcz",
        "outputId": "5863193d-04cf-43d9-e544-e9a8dceecbb9"
      },
      "outputs": [
        {
          "name": "stdout",
          "output_type": "stream",
          "text": [
            "[   84   175   566 ... 84897 84913 84931]\n"
          ]
        },
        {
          "data": {
            "text/html": [
              "\n",
              "  <div id=\"df-29c3269b-bdc5-4b57-b94b-9060ca299935\">\n",
              "    <div class=\"colab-df-container\">\n",
              "      <div>\n",
              "<style scoped>\n",
              "    .dataframe tbody tr th:only-of-type {\n",
              "        vertical-align: middle;\n",
              "    }\n",
              "\n",
              "    .dataframe tbody tr th {\n",
              "        vertical-align: top;\n",
              "    }\n",
              "\n",
              "    .dataframe thead th {\n",
              "        text-align: right;\n",
              "    }\n",
              "</style>\n",
              "<table border=\"1\" class=\"dataframe\">\n",
              "  <thead>\n",
              "    <tr style=\"text-align: right;\">\n",
              "      <th></th>\n",
              "      <th>ingredients</th>\n",
              "      <th>recipe_steps</th>\n",
              "    </tr>\n",
              "  </thead>\n",
              "  <tbody>\n",
              "    <tr>\n",
              "      <th>0</th>\n",
              "      <td>[celery, green pepper finely chopped, finely s...</td>\n",
              "      <td>Toss ingredients lightly and spoon into a butt...</td>\n",
              "    </tr>\n",
              "    <tr>\n",
              "      <th>1</th>\n",
              "      <td>[skirt steak, kosher salt, slices thick cut ap...</td>\n",
              "      <td>Watch how to make this recipe.\\nSprinkle the s...</td>\n",
              "    </tr>\n",
              "    <tr>\n",
              "      <th>2</th>\n",
              "      <td>[dried black beans, water, cloves garlic, vege...</td>\n",
              "      <td>In a large saucepan, let the beans soak in eno...</td>\n",
              "    </tr>\n",
              "    <tr>\n",
              "      <th>3</th>\n",
              "      <td>[ground chuck, one 15-ounce can tomato sauce, ...</td>\n",
              "      <td>Watch how to make this recipe.\\nPreheat the ov...</td>\n",
              "    </tr>\n",
              "    <tr>\n",
              "      <th>4</th>\n",
              "      <td>[rice, quinoa, sweet red peppers, oz. white tu...</td>\n",
              "      <td>Special equipment: sushi mat\\nCook the brown r...</td>\n",
              "    </tr>\n",
              "    <tr>\n",
              "      <th>...</th>\n",
              "      <td>...</td>\n",
              "      <td>...</td>\n",
              "    </tr>\n",
              "    <tr>\n",
              "      <th>124468</th>\n",
              "      <td>[olive oil, minced fresh ginger, cloves garlic...</td>\n",
              "      <td>Heat oil in a large pot over medium heat. Add ...</td>\n",
              "    </tr>\n",
              "    <tr>\n",
              "      <th>124469</th>\n",
              "      <td>[light cream, coconut extract, panang style re...</td>\n",
              "      <td>Heat cream and coconut extract in a skillet or...</td>\n",
              "    </tr>\n",
              "    <tr>\n",
              "      <th>124470</th>\n",
              "      <td>[bacon grease, shredded brussels sprouts, clov...</td>\n",
              "      <td>Heat bacon grease in a skillet over medium-hig...</td>\n",
              "    </tr>\n",
              "    <tr>\n",
              "      <th>124471</th>\n",
              "      <td>[egg yolks, white sugar, eggnog, heavy whippin...</td>\n",
              "      <td>Preheat oven to 350 degrees F (175 degrees C)....</td>\n",
              "    </tr>\n",
              "    <tr>\n",
              "      <th>124472</th>\n",
              "      <td>[canola oil, quick cooking oats, rolled spelt ...</td>\n",
              "      <td>Heat 1/4 cup canola oil in large skillet over ...</td>\n",
              "    </tr>\n",
              "  </tbody>\n",
              "</table>\n",
              "<p>123154 rows × 2 columns</p>\n",
              "</div>\n",
              "      <button class=\"colab-df-convert\" onclick=\"convertToInteractive('df-29c3269b-bdc5-4b57-b94b-9060ca299935')\"\n",
              "              title=\"Convert this dataframe to an interactive table.\"\n",
              "              style=\"display:none;\">\n",
              "        \n",
              "  <svg xmlns=\"http://www.w3.org/2000/svg\" height=\"24px\"viewBox=\"0 0 24 24\"\n",
              "       width=\"24px\">\n",
              "    <path d=\"M0 0h24v24H0V0z\" fill=\"none\"/>\n",
              "    <path d=\"M18.56 5.44l.94 2.06.94-2.06 2.06-.94-2.06-.94-.94-2.06-.94 2.06-2.06.94zm-11 1L8.5 8.5l.94-2.06 2.06-.94-2.06-.94L8.5 2.5l-.94 2.06-2.06.94zm10 10l.94 2.06.94-2.06 2.06-.94-2.06-.94-.94-2.06-.94 2.06-2.06.94z\"/><path d=\"M17.41 7.96l-1.37-1.37c-.4-.4-.92-.59-1.43-.59-.52 0-1.04.2-1.43.59L10.3 9.45l-7.72 7.72c-.78.78-.78 2.05 0 2.83L4 21.41c.39.39.9.59 1.41.59.51 0 1.02-.2 1.41-.59l7.78-7.78 2.81-2.81c.8-.78.8-2.07 0-2.86zM5.41 20L4 18.59l7.72-7.72 1.47 1.35L5.41 20z\"/>\n",
              "  </svg>\n",
              "      </button>\n",
              "      \n",
              "  <style>\n",
              "    .colab-df-container {\n",
              "      display:flex;\n",
              "      flex-wrap:wrap;\n",
              "      gap: 12px;\n",
              "    }\n",
              "\n",
              "    .colab-df-convert {\n",
              "      background-color: #E8F0FE;\n",
              "      border: none;\n",
              "      border-radius: 50%;\n",
              "      cursor: pointer;\n",
              "      display: none;\n",
              "      fill: #1967D2;\n",
              "      height: 32px;\n",
              "      padding: 0 0 0 0;\n",
              "      width: 32px;\n",
              "    }\n",
              "\n",
              "    .colab-df-convert:hover {\n",
              "      background-color: #E2EBFA;\n",
              "      box-shadow: 0px 1px 2px rgba(60, 64, 67, 0.3), 0px 1px 3px 1px rgba(60, 64, 67, 0.15);\n",
              "      fill: #174EA6;\n",
              "    }\n",
              "\n",
              "    [theme=dark] .colab-df-convert {\n",
              "      background-color: #3B4455;\n",
              "      fill: #D2E3FC;\n",
              "    }\n",
              "\n",
              "    [theme=dark] .colab-df-convert:hover {\n",
              "      background-color: #434B5C;\n",
              "      box-shadow: 0px 1px 3px 1px rgba(0, 0, 0, 0.15);\n",
              "      filter: drop-shadow(0px 1px 2px rgba(0, 0, 0, 0.3));\n",
              "      fill: #FFFFFF;\n",
              "    }\n",
              "  </style>\n",
              "\n",
              "      <script>\n",
              "        const buttonEl =\n",
              "          document.querySelector('#df-29c3269b-bdc5-4b57-b94b-9060ca299935 button.colab-df-convert');\n",
              "        buttonEl.style.display =\n",
              "          google.colab.kernel.accessAllowed ? 'block' : 'none';\n",
              "\n",
              "        async function convertToInteractive(key) {\n",
              "          const element = document.querySelector('#df-29c3269b-bdc5-4b57-b94b-9060ca299935');\n",
              "          const dataTable =\n",
              "            await google.colab.kernel.invokeFunction('convertToInteractive',\n",
              "                                                     [key], {});\n",
              "          if (!dataTable) return;\n",
              "\n",
              "          const docLinkHtml = 'Like what you see? Visit the ' +\n",
              "            '<a target=\"_blank\" href=https://colab.research.google.com/notebooks/data_table.ipynb>data table notebook</a>'\n",
              "            + ' to learn more about interactive tables.';\n",
              "          element.innerHTML = '';\n",
              "          dataTable['output_type'] = 'display_data';\n",
              "          await google.colab.output.renderOutput(dataTable, element);\n",
              "          const docLink = document.createElement('div');\n",
              "          docLink.innerHTML = docLinkHtml;\n",
              "          element.appendChild(docLink);\n",
              "        }\n",
              "      </script>\n",
              "    </div>\n",
              "  </div>\n",
              "  "
            ],
            "text/plain": [
              "                                              ingredients                                       recipe_steps\n",
              "0       [celery, green pepper finely chopped, finely s...  Toss ingredients lightly and spoon into a butt...\n",
              "1       [skirt steak, kosher salt, slices thick cut ap...  Watch how to make this recipe.\\nSprinkle the s...\n",
              "2       [dried black beans, water, cloves garlic, vege...  In a large saucepan, let the beans soak in eno...\n",
              "3       [ground chuck, one 15-ounce can tomato sauce, ...  Watch how to make this recipe.\\nPreheat the ov...\n",
              "4       [rice, quinoa, sweet red peppers, oz. white tu...  Special equipment: sushi mat\\nCook the brown r...\n",
              "...                                                   ...                                                ...\n",
              "124468  [olive oil, minced fresh ginger, cloves garlic...  Heat oil in a large pot over medium heat. Add ...\n",
              "124469  [light cream, coconut extract, panang style re...  Heat cream and coconut extract in a skillet or...\n",
              "124470  [bacon grease, shredded brussels sprouts, clov...  Heat bacon grease in a skillet over medium-hig...\n",
              "124471  [egg yolks, white sugar, eggnog, heavy whippin...  Preheat oven to 350 degrees F (175 degrees C)....\n",
              "124472  [canola oil, quick cooking oats, rolled spelt ...  Heat 1/4 cup canola oil in large skillet over ...\n",
              "\n",
              "[123154 rows x 2 columns]"
            ]
          },
          "execution_count": 6,
          "metadata": {},
          "output_type": "execute_result"
        }
      ],
      "source": [
        "def load_recipes():\n",
        "    with open(path.join('data', 'tokens.pkl'), 'rb') as f:\n",
        "        recipes = pickle.load(f)\n",
        "    return recipes\n",
        "\n",
        "r = load_recipes()\n",
        "r_test = r[1][5].split('; ')\n",
        "r_test.remove('')\n",
        "\n",
        "def clean_ing(ing):\n",
        "    ing_list = ing.split()\n",
        "    clean = ' '.join(list(filter(lambda x: x.lower() != \"advertisement\", ing_list)))\n",
        "    return clean\n",
        "\n",
        "def clean_ing_list(ing_list):\n",
        "    ing_list = ing_list.split('; ')\n",
        "    ing_list.remove('')\n",
        "    ing_list = [clean_ing(ing) for ing in ing_list if ing != 'advertisement']\n",
        "    return ing_list\n",
        "\n",
        "train_data = load_recipes()\n",
        "ing_data = [clean_ing_list(ing_list) for ing_list in train_data[1]]\n",
        "numWords = np.array([len(sentence.split()) for sentence in train_data[2]])\n",
        "\n",
        "\n",
        "recipe_steps = pd.DataFrame()\n",
        "recipe_steps['ingredients'] = ing_data\n",
        "recipe_steps['recipe_steps'] = train_data[2]\n",
        "\n",
        "indexes =np.where(numWords>750)[0]\n",
        "print(indexes)\n",
        "recipe_steps = recipe_steps.drop(indexes)\n",
        "\n",
        "#recipe_steps['recipe_steps'].drop(recipe_steps.index[numWords>750])\n",
        "#recipe_steps['recipe_steps'][numWords<750]\n",
        "recipe_steps\n"
      ]
    },
    {
      "cell_type": "code",
      "execution_count": 7,
      "metadata": {
        "id": "KgP8Rx81tVrE"
      },
      "outputs": [],
      "source": [
        "class GPT2Dataset(Dataset):\n",
        "\n",
        "  def __init__(self, txt_list, tokenizer, gpt2_type=\"gpt2\", max_length=768):\n",
        "\n",
        "    self.tokenizer = tokenizer\n",
        "    self.input_ids = []\n",
        "    #self.label_ids = []\n",
        "    self.attn_masks = []\n",
        "\n",
        "    for index, item in txt_list.iterrows():\n",
        "      encodings_dict = tokenizer('<|startofing|>'+ '<|ingseparator|>'.join(item['ingredients']) + '<|endofing|>' + '<|startoftext|>'+ item['recipe_steps'] + '<|endoftext|>', truncation=True, max_length=850, padding=\"max_length\")\n",
        "      #print('<|startofing|>'+ ' <|ingseparator|> '.join(item['ingredients']) + '<|endofing|>')\n",
        "      #print('<|startoftext|>'+ item['recipe_steps'] + '<|endoftext|>')\n",
        "      #encodings_labels = tokenizer('<|startoftext|>'+ item['recipe_steps'] + '<|endoftext|>', truncation=True, max_length=750, padding=\"max_length\")\n",
        "\n",
        "      self.input_ids.append(torch.tensor(encodings_dict['input_ids']))\n",
        "      #self.label_ids.append(torch.tensor(encodings_labels['input_ids']))\n",
        "      self.attn_masks.append(torch.tensor(encodings_dict['attention_mask']))\n",
        "    \n",
        "  def __len__(self):\n",
        "    return len(self.input_ids)\n",
        "\n",
        "  def __getitem__(self, idx):\n",
        "    return self.input_ids[idx], self.attn_masks[idx] "
      ]
    },
    {
      "cell_type": "code",
      "execution_count": 8,
      "metadata": {
        "colab": {
          "base_uri": "https://localhost:8080/"
        },
        "id": "88kaE6SgBqEj",
        "outputId": "c4f75af8-32fe-4b59-99d9-ac5cbb663f9b"
      },
      "outputs": [
        {
          "name": "stdout",
          "output_type": "stream",
          "text": [
            "78\n"
          ]
        }
      ],
      "source": [
        "numIngredients = [len(ing) for ing in recipe_steps['ingredients']]\n",
        "print(max(numIngredients))"
      ]
    },
    {
      "cell_type": "code",
      "execution_count": 10,
      "metadata": {
        "colab": {
          "base_uri": "https://localhost:8080/"
        },
        "id": "qKqzK58Qq27r",
        "outputId": "ad9348fa-5ef8-422f-f4fa-ad3aa14f29e0"
      },
      "outputs": [
        {
          "name": "stdout",
          "output_type": "stream",
          "text": [
            "110,838 training samples\n",
            "12,316 validation samples\n"
          ]
        }
      ],
      "source": [
        "#tokenizer = GPT2Tokenizer.from_pretrained('gpt2', bos_token='<|startoftext|>', eos_token='<|endoftext|>', pad_token='<|pad|>') #gpt2-medium\n",
        "#tokenizer.add_special_tokens(\n",
        "#\t{'additional_special_tokens': ['<|startofing|>', '<|endofing|>', '<|ingseparator|>']}\n",
        "#)\n",
        "tokenizer = GPT2Tokenizer.from_pretrained(\"./models/tokenizer/Ing\")\n",
        "dataset = GPT2Dataset(recipe_steps, tokenizer, max_length=850)\n",
        "\n",
        "# Split into training and validation sets\n",
        "train_size = int(0.9 * len(dataset))\n",
        "val_size = len(dataset) - train_size\n",
        "\n",
        "train_dataset, val_dataset = random_split(dataset, [train_size, val_size])\n",
        "\n",
        "print('{:>5,} training samples'.format(train_size))\n",
        "print('{:>5,} validation samples'.format(val_size))\n",
        "\n",
        "batch_size = 2"
      ]
    },
    {
      "cell_type": "code",
      "execution_count": 11,
      "metadata": {
        "id": "0XSeyp8nq3nm"
      },
      "outputs": [],
      "source": [
        "# Create the DataLoaders for our training and validation datasets.\n",
        "# We'll take training samples in random order. \n",
        "train_dataloader = DataLoader(\n",
        "            train_dataset,  # The training samples.\n",
        "            sampler = RandomSampler(train_dataset), # Select batches randomly\n",
        "            batch_size = batch_size # Trains with this batch size.\n",
        "        )\n",
        "\n",
        "# For validation the order doesn't matter, so we'll just read them sequentially.\n",
        "validation_dataloader = DataLoader(\n",
        "            val_dataset, # The validation samples.\n",
        "            sampler = SequentialSampler(val_dataset), # Pull out batches sequentially.\n",
        "            batch_size = batch_size # Evaluate with this batch size.\n",
        "        )"
      ]
    },
    {
      "cell_type": "code",
      "execution_count": 12,
      "metadata": {
        "colab": {
          "base_uri": "https://localhost:8080/",
          "height": 49,
          "referenced_widgets": [
            "49b28fffe9a54c548068e36e07fd95c2",
            "4118b7bfee1a481d9b8377745a3f97ca",
            "f7761ffa70b74a85a6379cbb5828d51a",
            "42f093f7f9fe408083a68a6bc7fe71e9",
            "cd65c557b0784217a8287c7a4bc790f5",
            "ccaa53fb261c46f893b4f2aa366f01d3",
            "44c918049e11447eb515a33579615a03",
            "499f3d4709124d4199c6bcc2ae47769b",
            "726a4e4ff7434e95bba9ffff6021c51a",
            "9bcae110536e4d478d23dd2975dab294",
            "1ef5407594704c4dbb3702672bc29a4d"
          ]
        },
        "id": "y0PBfNYzuddh",
        "outputId": "22fa21c9-c0b6-4f26-9c8a-45297960d87e"
      },
      "outputs": [
        {
          "data": {
            "application/vnd.jupyter.widget-view+json": {
              "model_id": "49b28fffe9a54c548068e36e07fd95c2",
              "version_major": 2,
              "version_minor": 0
            },
            "text/plain": [
              "Downloading:   0%|          | 0.00/665 [00:00<?, ?B/s]"
            ]
          },
          "metadata": {},
          "output_type": "display_data"
        }
      ],
      "source": [
        "# I'm not really doing anything with the config buheret\n",
        "configuration = GPT2Config.from_pretrained('gpt2', output_hidden_states=False)\n",
        "\n",
        "# instantiate the model\n",
        "model = GPT2LMHeadModel.from_pretrained(\"./models/TrainRecipeBox/Ing\")#\"gpt2\", config=configuration)#('./models/RecipeBoxTrained')#\n",
        "\n",
        "# this step is necessary because I've added some tokens (bos_token, etc) to the embeddings\n",
        "# otherwise the tokenizer and model tensors won't match up\n",
        "model.resize_token_embeddings(len(tokenizer))\n",
        "\n",
        "# Tell pytorch to run this model on the GPU.\n",
        "device = torch.device(\"cuda\")\n",
        "model.cuda()\n",
        "\n",
        "# Set the seed value all over the place to make this reproducible.\n",
        "seed_val = 42\n",
        "\n",
        "random.seed(seed_val)\n",
        "np.random.seed(seed_val)\n",
        "torch.manual_seed(seed_val)\n",
        "torch.cuda.manual_seed_all(seed_val)"
      ]
    },
    {
      "cell_type": "code",
      "execution_count": 13,
      "metadata": {
        "id": "PAJncDCdTZrs"
      },
      "outputs": [],
      "source": [
        "# some parameters I cooked up that work reasonably well\n",
        "\n",
        "epochs = 1\n",
        "learning_rate = 5e-4\n",
        "warmup_steps = 1e2\n",
        "epsilon = 1e-8\n",
        "\n",
        "# this produces sample output every 100 steps\n",
        "sample_every = 100\n",
        "\n",
        "# Note: AdamW is a class from the huggingface library (as opposed to pytorch) \n",
        "optimizer = AdamW(model.parameters(),\n",
        "                  lr = learning_rate,\n",
        "                  eps = epsilon\n",
        "                )"
      ]
    },
    {
      "cell_type": "code",
      "execution_count": 14,
      "metadata": {
        "id": "Olm96ydoTlBp"
      },
      "outputs": [],
      "source": [
        "# Total number of training steps is [number of batches] x [number of epochs]. \n",
        "# (Note that this is not the same as the number of training samples).\n",
        "total_steps = len(train_dataloader) * epochs\n",
        "\n",
        "# Create the learning rate scheduler.\n",
        "# This changes the learning rate as the training loop progresses\n",
        "scheduler = get_linear_schedule_with_warmup(optimizer, \n",
        "                                            num_warmup_steps = warmup_steps, \n",
        "                                            num_training_steps = total_steps)"
      ]
    },
    {
      "cell_type": "code",
      "execution_count": 15,
      "metadata": {
        "id": "n8FXQmgrTnic"
      },
      "outputs": [],
      "source": [
        "def format_time(elapsed):\n",
        "    return str(datetime.timedelta(seconds=int(round((elapsed)))))"
      ]
    },
    {
      "cell_type": "code",
      "execution_count": null,
      "metadata": {
        "colab": {
          "background_save": true,
          "base_uri": "https://localhost:8080/"
        },
        "id": "84NOPCh-TpqL",
        "outputId": "a45651cd-080c-4443-ac29-ff4de550e595"
      },
      "outputs": [
        {
          "name": "stdout",
          "output_type": "stream",
          "text": [
            "\n",
            "======== Epoch 1 / 1 ========\n",
            "Training...\n"
          ]
        },
        {
          "name": "stderr",
          "output_type": "stream",
          "text": [
            "Setting `pad_token_id` to `eos_token_id`:50256 for open-end generation.\n"
          ]
        },
        {
          "name": "stdout",
          "output_type": "stream",
          "text": [
            "  Batch   100  of  55,419. Loss: 0.2473907768726349.   Elapsed: 0:01:59.\n",
            "0:  bipartisanmilkheavy creamvanilla extractinstant espressowhole wheat flourkosher saltall purpose flourunsweetened cocoa powderfreshly ground nutmegsugarbaking powdersugarcold waterwhole milkunsalted buttereggsone 8-ounce container nonfat evaporated milk (prepared graham crackerspowdered sugarFor the chocolate cupcakes: Preheat the oven to 350 degrees. Whisk together the milk, cream, vanilla, and espresso in a large bowl. Whisk together the flours, the cocoa powder, and the sugar in another bowl. Add the eggs and milk mixture to the milk mixture and mix with your hands until just incorporated. Stir in the flour mixture gently just until just barely incorporated. Pour the batter into a large round tube pan and place it on the center rack of the oven. Bake for 10 to 12 minutes until a wooden pick inserted\n"
          ]
        },
        {
          "name": "stderr",
          "output_type": "stream",
          "text": [
            "Setting `pad_token_id` to `eos_token_id`:50256 for open-end generation.\n"
          ]
        },
        {
          "name": "stdout",
          "output_type": "stream",
          "text": [
            "  Batch   200  of  55,419. Loss: 0.6186019778251648.   Elapsed: 0:04:08.\n",
            "0:  increasingbutterground cumincloves garlicground black peppergrated fresh gingerjalapeno peppersred curry pastechili powderMelt butter in skillet over medium heat. Stir in ground cumin and garlic; cook and stir cumin mixture until fragrant, about 30 seconds. Add ginger and jalapeno peppers; cook and stir until fragrant, about 30 seconds. Stir curry paste, chili powder, and chili powder into cumin mixture. Add cooked cilantro; stir until fragrant, about 30 seconds.\n",
            "\n"
          ]
        },
        {
          "name": "stderr",
          "output_type": "stream",
          "text": [
            "Setting `pad_token_id` to `eos_token_id`:50256 for open-end generation.\n"
          ]
        },
        {
          "name": "stdout",
          "output_type": "stream",
          "text": [
            "  Batch   300  of  55,419. Loss: 0.22393089532852173.   Elapsed: 0:06:09.\n",
            "0: dayhoneycinnamonwhole clovesground cinnamonwhole clovesred pepper flakesred pepper flakesvegetable oilkosher saltlow sodium chicken brothone 14-ounce can coconut milkwatereggsgranulated sugarmilkone 14-ounce can coconut milkbaking powderone 1-quart sheet of foileggsvegetable oilcornstarchground almondspure vanilla extractpinch kosher saltbuttermilkunsalted buttervegetable oilcreampure vanilla seedsmaple syrupsugareggsvegetable oilFor the maple filling: Combine the honey, cinnamon, whole cloves and orange pepper flakes in a bowl and set aside.\n",
            "For the maple sauce: Heat the oil in a medium saucepan over medium heat. Once the oil is hot but not smoking, add the onion and cook until translucent, about 3\n"
          ]
        },
        {
          "name": "stderr",
          "output_type": "stream",
          "text": [
            "Setting `pad_token_id` to `eos_token_id`:50256 for open-end generation.\n"
          ]
        },
        {
          "name": "stdout",
          "output_type": "stream",
          "text": [
            "  Batch   400  of  55,419. Loss: 0.39772388339042664.   Elapsed: 0:08:12.\n",
            "0:  Hanglobstereggmayonnaisemayonnaisesaltpinch cayenne pepperPreheat oven to 400 degrees F (200 degrees C).\n",
            "Toss the lobster with egg, mayonnaise, salt and pepper. Spread a layer of lobster on an ungreased 9x5 inch casserole dish. Bake in the preheated oven for 10 minutes, or until the shell has cooked through.\n",
            "\n"
          ]
        },
        {
          "name": "stderr",
          "output_type": "stream",
          "text": [
            "Setting `pad_token_id` to `eos_token_id`:50256 for open-end generation.\n"
          ]
        },
        {
          "name": "stdout",
          "output_type": "stream",
          "text": [
            "  Batch   500  of  55,419. Loss: 0.3492337465286255.   Elapsed: 0:10:14.\n",
            "0:  foodsslices white breadslices baconfinely gratedcanola oil (for frying)salteggspoblano chiliesjalapeno pepperred onionpepperplum tomatoescanola oil (for frying)Place bread cubes, bacon, canola oil and salt in a saucepan and cover with cold water. Bring to a boil, reduce heat and simmer until tender, about 25 minutes. Remove from heat and drain. Chop coarsely. Set aside.\n",
            "Place egg yolks in a large bowl. Sprinkle with salt and pepper.\n",
            "Pour hot tap water into a saucepan.\n",
            "In a large pot, heat oil to 350 degrees F. Season chicken with salt and pepper. Add the corn and water to oil. Season chicken with salt and pepper. Transfer the mixture to a deep-fryer and fry until golden and cooked through, about 1 hour.\n",
            "Meanwhile\n"
          ]
        },
        {
          "name": "stderr",
          "output_type": "stream",
          "text": [
            "Setting `pad_token_id` to `eos_token_id`:50256 for open-end generation.\n"
          ]
        },
        {
          "name": "stdout",
          "output_type": "stream",
          "text": [
            "  Batch   600  of  55,419. Loss: 0.6202253103256226.   Elapsed: 0:12:17.\n",
            "0:  trailsticks unsalted butterall purpose floursaltcold heavy creamice waterpure vanilla extractgrated orange zesteggsugarmilkgrated zesteggwaterpowdered gelatinvanilla extractFor crust: Stir butter and flour in processor. Add 1/3 cup cold heavy cream and process until moist clumps form. Gather dough over. Turn out dough onto floured surface; knead on floured board 5 minutes. Place dough onto ungreased baking sheet. Chill crust 15 minutes. Meanwhile, whisk remaining 1/3 cup cold cream and water in medium bowl to blend well. Add gelatin and beat until smooth. Blend gelatin mixture into whipped cream until smooth. Fold in chocolate and vanilla. Spread over crust. Chill until firm, about 30 minutes.\n",
            "Stir butter and flour in processor. Add 1/3 cup cold heavy cream and process until moist clumps form. Gather\n"
          ]
        },
        {
          "name": "stderr",
          "output_type": "stream",
          "text": [
            "Setting `pad_token_id` to `eos_token_id`:50256 for open-end generation.\n"
          ]
        },
        {
          "name": "stdout",
          "output_type": "stream",
          "text": [
            "  Batch   700  of  55,419. Loss: 0.4750421941280365.   Elapsed: 0:14:19.\n",
            "0: intendall purpose flourkosher saltfreshly ground black pepperchopped fresh tarragonchopped fresh marjoramegg whitemilkgrated cheddar cheesePreheat an oven to 350 degrees F.\n",
            "Stir together the flour, kosher salt and freshly ground black pepper in a medium bowl. Set aside for 2 minutes. Cut in the tarragon and marjoram. Add beaten egg white to the flour mixture. Mix thoroughly.\n",
            "Whisk together the milk and the cheddar in a separate bowl. Add the milk mixture to the flour mixture and stir for 2 minutes.\n",
            "Remove the egg white mixture from the processor and stir in the cheese. Transfer to a baking dish and spread with the remaining cornstarch mixture.\n",
            "Bake in the preheated oven for 25 minutes. Carefully remove from oven and let stand for 5 minutes before serving.\n"
          ]
        },
        {
          "name": "stderr",
          "output_type": "stream",
          "text": [
            "Setting `pad_token_id` to `eos_token_id`:50256 for open-end generation.\n"
          ]
        },
        {
          "name": "stdout",
          "output_type": "stream",
          "text": [
            "  Batch   800  of  55,419. Loss: 0.4137604236602783.   Elapsed: 0:16:22.\n",
            "0:  surroundpineapple chunks with stemsmayonnaisepaprikaolive oilfresh chivesfresh lemon juicekosher saltfreshly ground black pepperfreshly grated nutmegfreshly grated nutmegfreshly ground nutmegCombine the first 5 ingredients in a large bowl. Toss and season with salt and pepper. Chill, covered, at least 1 hour. Preheat the grill. Brush both sides of the mango chunks with the marinade. Grill the mango until very charred, about 1 minute per side. Place a slice of grilled mango on the bottom of each half of the mango. Grill the mango until medium rare, about 4 minutes per side. Place the mango mixture in the center of the mango mango-topped mango chutney. Serve mango tartar sauce with pomegranate sauce.\n",
            "Combine the first 5 ingredients in a large bowl. Toss and season with salt and pepper. Chill\n"
          ]
        },
        {
          "name": "stderr",
          "output_type": "stream",
          "text": [
            "Setting `pad_token_id` to `eos_token_id`:50256 for open-end generation.\n"
          ]
        },
        {
          "name": "stdout",
          "output_type": "stream",
          "text": [
            "  Batch   900  of  55,419. Loss: 0.30744609236717224.   Elapsed: 0:18:26.\n",
            "0:  reflexvegetable oilonionchopped green chilescloves garlicsaltblack beanswatercorn salsamilkvegetable oilground cuminchopped cilantrocanned low salt chicken brothfresh lime juiceIn a skillet, heat the oil to 375 degrees F. Add the onion, and brown for 5 to 10 minutes, then add the green chiles, garlic, and salt. Add the water, add to the pot, and cook the beans for 2 hours or until the beans are tender but still firm. Add the corn and water, reduce to a simmer, and cook for 10 minutes. Strain through a cheesecloth-lined strainer. Discard the chilies. Add the roasted beans to the soup, cover, and simmer for another 20 to 25 minutes or until the beans are soft and most of the liquid has reduced. Season with salt and pepper and stir in the cilantro and c\n"
          ]
        },
        {
          "name": "stderr",
          "output_type": "stream",
          "text": [
            "Setting `pad_token_id` to `eos_token_id`:50256 for open-end generation.\n"
          ]
        },
        {
          "name": "stdout",
          "output_type": "stream",
          "text": [
            "  Batch 1,000  of  55,419. Loss: 0.515303909778595.   Elapsed: 0:20:29.\n",
            "0:  displayvegetable oilpumpkin pureewhite sugarsaltpepperpumpkin pureelemon juiceveganpackage active dry yeastmilkflourHeat 2 tablespoons oil in a large skillet over medium heat. Add pumpkin puree and sugar. Cook, stirring constantly, until pumpkin puree is a little syrupy, about 15 minutes.\n",
            "Mix pumpkin puree, 1/3 cup white sugar, salt, pepper, pumpkin puree, lemon juice, yeast, and 1/2 cup warm water into pumpkin puree; let stand 1 minute to dissolve flavors into the syrup, about 5 minutes. Stir flour into pumpkin mixture; cover and chill until thickened, about 1 hour.\n",
            "Pour pumpkin mixture into a lightly floured surface and knead on counter with a floured board for 20 minutes; roll into a ball and place on a lightly floured board. Cut into 1-inch long strips\n"
          ]
        },
        {
          "name": "stderr",
          "output_type": "stream",
          "text": [
            "Setting `pad_token_id` to `eos_token_id`:50256 for open-end generation.\n"
          ]
        },
        {
          "name": "stdout",
          "output_type": "stream",
          "text": [
            "  Batch 1,100  of  55,419. Loss: 0.27371856570243835.   Elapsed: 0:22:32.\n",
            "0:  pastorpint cherry tomatoessprigs basilsaltolive oilcoarsely ground black pepperfinely grated parmesan cheesetomato sauceIn a shallow pan stir together tomatoes and basil, sprinkle with salt, and pepper, and set aside. In a large saucepan bring 1 cup salted water to a boil, add tomatoes and simmer them, covered, for 10 minutes. Drain them in a colander, discarding them and the outer skins and add them to the sauce. Simmer sauce, covered, for 10 minutes. Discard basil.\n",
            "In a shallow pan stir together tomatoes and basil, sprinkle with salt, and pepper, and set aside.\n",
            "In a large saucepan bring 1 cup salted water to a boil, add tomatoes and simmer them, covered, for 10 minutes. Drain them in a colander, discarding them and the outer skins and add them to the sauce. Simmer sauce, covered, for 10\n"
          ]
        },
        {
          "name": "stderr",
          "output_type": "stream",
          "text": [
            "Setting `pad_token_id` to `eos_token_id`:50256 for open-end generation.\n"
          ]
        },
        {
          "name": "stdout",
          "output_type": "stream",
          "text": [
            "  Batch 1,200  of  55,419. Loss: 1.0718103647232056.   Elapsed: 0:24:34.\n",
            "0:  illicitpackages cream cheesegrated parmesan cheesefinely chopped onionsegg yolkslemon extractsaltall purpose flourvegetable oilflourfinely chopped fresh mozzarella cheesegrated parmesan cheesevegetable oil for fryingBeat cream cheese in a bowl with an electric hand mixer until creamy, about 3 minutes. Set aside.\n",
            "Mix Parmesan cheese and onion together in a bowl, then beat egg yolks with lemon extract in a separate bowl until pale and thick, about 3 minutes. Gradually beat flour into cream cheese mixture until well mixed, scraping down sides as needed. Stir 1/4 cup Parmesan cheese mixture into cream cheese mixture until just incorporated, about 1 minute. Stir 1/4 cup Parmesan cheese mixture into cream cheese mixture. Drop heaping 1/4 cupful tablespoonsfuls of dough 1/3 to 1 1/2 inches apart onto a well-\n"
          ]
        },
        {
          "name": "stderr",
          "output_type": "stream",
          "text": [
            "Setting `pad_token_id` to `eos_token_id`:50256 for open-end generation.\n"
          ]
        },
        {
          "name": "stdout",
          "output_type": "stream",
          "text": [
            "  Batch 1,300  of  55,419. Loss: 0.9697505235671997.   Elapsed: 0:26:37.\n",
            "0:  Liberationeggsbrown sugarbuttervanilla extractground cinnamonchopped walnutsground clovesground allspiceground gingerground allspiceground nutmegcinnamonchopped pecansall purpose flourpacked brown sugarground allspiceground gingerground allspicesaltbrown sugarground cinnamonground nutmegPlace the egg whites and sugar in the bowl of an electric mixer. Add the butter and vanilla and mix on medium speed until the butter is completely mixed.\n",
            "Add the eggs, lemon juice, and sugar mixture and mix on high speed until completely combined.\n",
            "Mix the chopped walnuts, 1/2 teaspoon of the ground cinnamon, cloves, allspice, nutmeg, and cinnamon together in a large bowl. Add the flour, brown sugar, allspice, salt, nutmeg, cinnamon, allspice, nutmeg, sugar, allspice\n"
          ]
        },
        {
          "name": "stderr",
          "output_type": "stream",
          "text": [
            "Setting `pad_token_id` to `eos_token_id`:50256 for open-end generation.\n"
          ]
        },
        {
          "name": "stdout",
          "output_type": "stream",
          "text": [
            "  Batch 1,400  of  55,419. Loss: 0.45716115832328796.   Elapsed: 0:28:39.\n",
            "0:  Nambeef short grain steaksall purpose floursaltpinch garlic powdersaltbalsamic vinegarPreheat oven to 350 degrees F (175 degrees C).\n",
            "In a bowl, mix the beef, flour, salt, garlic powder, and pepper.\n",
            "Place one side of ground beef mixture on the bottom of a 9x13 inch baking dish, and spread the mixture over the meat.\n",
            "Bake for 1 hour in the preheated oven, until the beef is tender.\n",
            "\n"
          ]
        },
        {
          "name": "stderr",
          "output_type": "stream",
          "text": [
            "Setting `pad_token_id` to `eos_token_id`:50256 for open-end generation.\n"
          ]
        },
        {
          "name": "stdout",
          "output_type": "stream",
          "text": [
            "  Batch 1,500  of  55,419. Loss: 0.36267125606536865.   Elapsed: 0:30:40.\n",
            "0: IONfrozen black eyed peasslices white onionfresh lemon juicebalsamic vinegardijon style mustardground cuminhoneyextra virgin olive oilhoneyhead garlicfinely chopped onionolive oilbunch green pecansfrenchthinly sliced swissantsthinly sliced pickled fresh basilBring a large pot of water to a boil. Rinse the black eyed peas under cold water to remove any grit. Place the black eyed peas and onion in a colander and let the black eyed peas sit out, several hours. Drain, and return to the pot. Add 2 tablespoons of the lemon juice, balsamic vinegar, mustard, cumin, honey, and 1/4 teaspoon each of salt and pepper. Cook until the shrimp turn pink, about 4 minutes, and then add the black eyed peas and stir to coat. Return the shrimp to the pot, along with the\n"
          ]
        },
        {
          "name": "stderr",
          "output_type": "stream",
          "text": [
            "Setting `pad_token_id` to `eos_token_id`:50256 for open-end generation.\n"
          ]
        },
        {
          "name": "stdout",
          "output_type": "stream",
          "text": [
            "  Batch 1,600  of  55,419. Loss: 0.21117563545703888.   Elapsed: 0:32:42.\n",
            "0:  glimpseunsalted butterfresh lemon juiceshallotgarlic clovesground cuminchopped cayennefresh ground black pepperchopped dried thymedry white winefinely chopped chivesWatch how to make this recipe.\n",
            "Preheat the oven to 375 degrees F.\n",
            "Melt the butter and the lemon juice in a medium skillet over medium heat. Add the shallots, garlic, cumin, and cayenne. Cook, stirring, until the garlic is soft and golden, about 2 minutes. Add the dried and cooked white wine and bring to a boil, reduce the heat to medium-low, and simmer for about 2 minutes. Strain the wine and allow the sauce to cool slightly. Remove the chile flakes from the heat and whisk the cooled chile sauce into the chile sauce, along with the chopped chives.\n",
            "Serve the chowder in shallow bowls and top with the chowder.\n"
          ]
        },
        {
          "name": "stderr",
          "output_type": "stream",
          "text": [
            "Setting `pad_token_id` to `eos_token_id`:50256 for open-end generation.\n"
          ]
        },
        {
          "name": "stdout",
          "output_type": "stream",
          "text": [
            "  Batch 1,700  of  55,419. Loss: 0.26904284954071045.   Elapsed: 0:34:45.\n",
            "0:  Laurechicken wingsolive oilbuttermilkwhite wine vinegarsaltcrushed black pepperwhite oniondiced tomatoessaltsaltblack pepperdiced red bell peppersBring a large pot of salted water to a boil. Add the chicken wings and bring the water back to a boil. Cook the chicken wings about 10 minutes in the pot of boiling water. Remove from the heat and cool the wings for 5 minutes.\n",
            "Heat the oil in a large skillet over medium high heat until it begins to smoke. Add the buttermilk, white wine vinegar, salt, and pepper; reduce the heat to low and simmer until the sauce is thickened to sauce consistency and the sauce is smooth, about 15 minutes. Stir in the onions and cook until the onions are transparent. Toss with the tomatoes, salt, and pepper. Add the chicken wings to the skillet, and then cook for about 5 minutes more, or until\n"
          ]
        },
        {
          "name": "stderr",
          "output_type": "stream",
          "text": [
            "Setting `pad_token_id` to `eos_token_id`:50256 for open-end generation.\n"
          ]
        },
        {
          "name": "stdout",
          "output_type": "stream",
          "text": [
            "  Batch 1,800  of  55,419. Loss: 0.772438645362854.   Elapsed: 0:36:48.\n",
            "0: ismgraham cracker crumbspackage active dry yeastwarm waterall purpose flourshorteningall purpose flourbutterIn a large bowl, mix together cracker crumbs and yeast. Let stand for 5 minutes.\n",
            "Whisk together the yeast and water; mix in flour and salt. Beat well.\n",
            "In a large, dry, dry bowl, add warm water. Beat for 8 to 10 minutes, or until thick. Let cool.\n",
            "Preheat oven to 350 degrees F (175 degrees C).\n",
            "Spread 1/4 cup of the dough on the bottom and top with the remaining of the dough. Fold in about the filling.\n",
            "Fold in the other ingredients.\n",
            "Spread evenly into a casserole dish.\n",
            "Bake in preheated oven for 1 hour, or until bubbly. Sprinkle with remaining of the remaining dough. Sprinkle with chopped nuts.\n",
            "\n"
          ]
        },
        {
          "name": "stderr",
          "output_type": "stream",
          "text": [
            "Setting `pad_token_id` to `eos_token_id`:50256 for open-end generation.\n"
          ]
        },
        {
          "name": "stdout",
          "output_type": "stream",
          "text": [
            "  Batch 1,900  of  55,419. Loss: 0.3976590037345886.   Elapsed: 0:38:50.\n",
            "0: ounsliced almondsfresh mint leavesfresh lemon juicegarlic powderkosher saltextra virgin olive oilSpecial equipment: a spice grinder, a vegetable grinder, a medium or medium bowl, a shallow glass pie plate, an instant-read thermometer\n",
            "For the almond spread: Toast the almonds in a small, dry nonstick skillet, stirring once, until golden, about 4 minutes. Let cool to room temperature, tossing once, about 30 minutes.\n",
            "Add 1 tablespoon almond spread to a large salad bowl.\n",
            "Remove and discard the stem from 1 almond seed; thinly slice in half on a diagonal.\n",
            "Whisk together the remaining almond spread, garlic powder, salt, and 1 teaspoon lemon zest in a large bowl. Transfer to a shallow baking dish or dish and cover loosely with plastic wrap. Refrigerate until chilled, at least 30 minutes.\n",
            "For the almond-rosemary spread: Whisk together the remaining almond-rosemary\n"
          ]
        },
        {
          "name": "stderr",
          "output_type": "stream",
          "text": [
            "Setting `pad_token_id` to `eos_token_id`:50256 for open-end generation.\n"
          ]
        },
        {
          "name": "stdout",
          "output_type": "stream",
          "text": [
            "  Batch 2,000  of  55,419. Loss: 0.4775945246219635.   Elapsed: 0:40:53.\n",
            "0:  electionripe tomatoeschopped onionchopped parsleycider vinegarsaltblack pepperHeat a heavy-bottomed pot over medium-high heat. Add the tomatoes, onion, parsley, vinegar, salt and pepper. Stir and simmer for 5 to 8 minutes. If using an electric mixer, puree until smooth. Serve over grilled meats.\n",
            "\n"
          ]
        },
        {
          "name": "stderr",
          "output_type": "stream",
          "text": [
            "Setting `pad_token_id` to `eos_token_id`:50256 for open-end generation.\n"
          ]
        },
        {
          "name": "stdout",
          "output_type": "stream",
          "text": [
            "  Batch 2,100  of  55,419. Loss: 0.45401185750961304.   Elapsed: 0:42:53.\n",
            "0:  crazypackage elbow macaronicrushed red pepper flakeschili powdersaltground black peppereggsmilkpackage dry onion soup mixchicken bouillon granuleswaterketchupsaltdash hot pepper saucePreheat oven to 350 degrees F (175 degrees C).\n",
            "Bring a large pot of lightly salted water to a boil. Cook elbow macaroni in the boiling water, stirring occasionally until cooked through but firm to the bite, about 7 minutes. Drain and set aside to cool.\n",
            "Mix crushed red pepper flakes, chili powder, salt, and black pepper together in a bowl; fold egg yolk and milk into the marinade until the mixture is moist. Stir about half of the hot pepper sauce into the cheese sauce. Spread the remaining hot pepper sauce over the egg yolk mixture and sprinkle with the hot pepper sauce. Spoon the egg mixture evenly over the sauce.\n",
            "Bake egg y\n"
          ]
        },
        {
          "name": "stderr",
          "output_type": "stream",
          "text": [
            "Setting `pad_token_id` to `eos_token_id`:50256 for open-end generation.\n"
          ]
        },
        {
          "name": "stdout",
          "output_type": "stream",
          "text": [
            "  Batch 2,200  of  55,419. Loss: 0.5863850116729736.   Elapsed: 0:44:55.\n",
            "0:  benchskinlesssaltvegetable oilonionminced garlicchicken brothtomato saucered pepper flakessaltolive oilloaf italian breadchopped parsleyPlace the chicken breasts between two thicknesses of paper towels to dry them out. Rub the chicken all over with some of the salt. Heat 1 tablespoon oil in a large saute pan over medium heat. Brown the chicken all over in the hot oil until golden brown on both sides, about 10 minutes. Let rest 5 minutes.\n",
            "Meanwhile, heat the vegetable oil in a medium saucepan over medium-high heat. Add the onion and garlic, and cook until soft. Add the chicken broth, tomato sauce and the remaining salt and pepper. Cook for about 20 minutes, stirring occasionally. Add the remaining 1 tablespoon oil. Bring to a simmer, reduce heat and simmer for 15 minutes.\n",
            "Heat the remaining 1 tablespoon oil in the pan. Add\n"
          ]
        },
        {
          "name": "stderr",
          "output_type": "stream",
          "text": [
            "Setting `pad_token_id` to `eos_token_id`:50256 for open-end generation.\n"
          ]
        },
        {
          "name": "stdout",
          "output_type": "stream",
          "text": [
            "  Batch 2,300  of  55,419. Loss: 0.6037799119949341.   Elapsed: 0:46:57.\n",
            "0:  incorporatedskinlesssaltvegetable oilonioncelerycarrotsyellow squashribs celerycelery stalkssprigs fresh parsleysprigs fresh thymechicken stockunsweetened cocoa powderbaking powderground cinnamonground gingersugareggsvegetable oilchicken stockconfectioners' sugarcornstarcheggsvegetable oilmilksaltcayenne peppermaltPreheat oven to 300 degrees F.\n",
            "In a heavy skillet cook onion and celery and carrots until softened, about 5 minutes. Add celery, carrots, celery, carrots, celery and parsley and thyme and saute until vegetables are tender. Add chicken stock, cocoa, baking powder, and cinnamon, lower heat and simmer at least 1 hour or until most of liquid is absorbed.\n",
            "In a\n"
          ]
        },
        {
          "name": "stderr",
          "output_type": "stream",
          "text": [
            "Setting `pad_token_id` to `eos_token_id`:50256 for open-end generation.\n"
          ]
        },
        {
          "name": "stdout",
          "output_type": "stream",
          "text": [
            "  Batch 2,400  of  55,419. Loss: 0.2516845464706421.   Elapsed: 0:49:00.\n",
            "0: Peterolive oilsweet onioncloves garliccanned crushed tomatoes in waterpinto beanskidney beanskidney beanskidney beanssalsakidney beanssalsakidney beanschopped cookedshredded sharp cheddar cheesesalsachopped green onionsslices baconeggspackage cream cheeseHeat oil in a large pot over medium-high heat. Add onion; cook and stir until tender, about 8 minutes.\n",
            "Stir in garlic, crushed tomatoes, olives, crushed tomatoes with water, bean beans, and salsa. Cook and stir mixture until flavors have blended, 5 to 10 minutes.\n",
            "Pour in kidney beans, kidney beans, salsa, and ground black pepper; stir well.\n",
            "Mix chopped green onions and bacon together in a bowl, and mix into kidney bean mixture. Stir in eggs, cream cheese, and green onions to coat.\n",
            "Stir in\n"
          ]
        },
        {
          "name": "stderr",
          "output_type": "stream",
          "text": [
            "Setting `pad_token_id` to `eos_token_id`:50256 for open-end generation.\n"
          ]
        },
        {
          "name": "stdout",
          "output_type": "stream",
          "text": [
            "  Batch 2,500  of  55,419. Loss: 0.24051102995872498.   Elapsed: 0:51:02.\n",
            "0: uringunsalted butterkosher saltgarlic clovered onionseggchopped fresh flat leaf parsleygrilled chickencloves garlicolive oilfresh bread crumbschopped fresh flat leaf parsleyfresh thymeMelt the butter in a large saucepan over medium-high heat. Stir in the salt and pepper and saute the garlic for about 3 minutes.\n",
            "Add the onions, egg and parsley and cook and stir for 3 to 5 minutes, or until the onions are soft and browned. Stir in the chicken and the garlic and continue cooking and stirring for 5 to 6 minutes.\n",
            "Add the oil and the bread crumbs and stir until they become a paste. Stir in the parsley, the thyme, the remaining 4 tablespoons of the butter, and season with salt and pepper. Stir to mix.\n",
            "Serve the chicken on a bed of mixed greens topped with the vegetables and parsley and\n"
          ]
        },
        {
          "name": "stderr",
          "output_type": "stream",
          "text": [
            "Setting `pad_token_id` to `eos_token_id`:50256 for open-end generation.\n"
          ]
        },
        {
          "name": "stdout",
          "output_type": "stream",
          "text": [
            "  Batch 2,600  of  55,419. Loss: 0.8653594851493835.   Elapsed: 0:53:04.\n",
            "0:  reproductiveunsalted butterplus 2 tablespoons coarse kosher salttamarichinese five spice powderdry white winewhole black peppercornscelery seedkosher saltfreshly ground black pepperleekscelery stalkswhipping creamcracked black pepperfreshly grated nutmegegg yolkssugarcornstarchwhipping creamunsalted buttersweet italian flatbreadfreshly ground black pepperfreshly grated nutmegcreme fraichewhole milkunsalted butterfreshly ground black pepperWatch how to make this recipe.\n",
            "For the relish: In a medium sauté pan over medium heat, melt the butter. Whisk in the flour, 1/4 cup of the reserved liquid from the shrimp, 6 tablespoons salt, 1/4 teaspoon of the pepper, 1/4 teaspoon of the thyme and the remaining 1\n"
          ]
        },
        {
          "name": "stderr",
          "output_type": "stream",
          "text": [
            "Setting `pad_token_id` to `eos_token_id`:50256 for open-end generation.\n"
          ]
        },
        {
          "name": "stdout",
          "output_type": "stream",
          "text": [
            "  Batch 2,700  of  55,419. Loss: 0.19781649112701416.   Elapsed: 0:55:08.\n",
            "0:  zoneunsalted buttershallotall purpose floursaltfreshly ground black pepperwhole milkeggwhipping creamsugarfreshly grated nutmegchopped fresh chivesextra virgin olive oilfreshly ground black pepperyellowonionclove garlicsprigs thymebay leavesolive oilsaltolive oilfreshly ground white pepperchile flakeslemon juicechopped fresh tarragonchopped fresh tarragonchopped fresh chiveschopped fresh chivesdijon mustardFor crust: Blend butter and shallots together in a food processor until smooth. Add flour and pulse just until dough is moist. Cover and chill 1 hour. Pulse in salt and pepper.\n",
            "Blend butter and shallots together in a food processor until smooth. Add flour and pulse just until dough is moist. Cover and chill 1 hour\n"
          ]
        },
        {
          "name": "stderr",
          "output_type": "stream",
          "text": [
            "Setting `pad_token_id` to `eos_token_id`:50256 for open-end generation.\n"
          ]
        },
        {
          "name": "stdout",
          "output_type": "stream",
          "text": [
            "  Batch 2,800  of  55,419. Loss: 0.3500298857688904.   Elapsed: 0:57:10.\n",
            "0:  commitsdried ancho chilesquarts waterchickenkosher saltonionclove garlicground cumincelery seedflaprikaground nutmegground cuminground cinnamonground nutmegdried oreganodried minced tomatoesdiced tomatopackage jalapeno peppersauerkrautdried ancho chilestomato saucechickpeaspork belly with a 2-pound legkosher saltonionsbalsamic vinegarcaraway seedsbay leavescarrotsribs celeryclove garlicbay leavessaltextra virgin olive oilonionclove garlicsaltonionscelerygarlic clovescumin seedsground cinnamonground nutmegground nutmegground clovesspigs fresh cumincayenne peppercumin\n"
          ]
        },
        {
          "name": "stderr",
          "output_type": "stream",
          "text": [
            "Setting `pad_token_id` to `eos_token_id`:50256 for open-end generation.\n"
          ]
        },
        {
          "name": "stdout",
          "output_type": "stream",
          "text": [
            "  Batch 2,900  of  55,419. Loss: 0.43292343616485596.   Elapsed: 0:59:13.\n",
            "0:  ironyall purpose flourwhite sugarcinnamonsaltunsalted butteregg yolkschopped fresh strawberriesPreheat oven to 375 degrees F (190 degrees C). Grease an 8x8 inch pan with butter.\n",
            "Mix 1 1/2 cups flour, sugar, cinnamon, and salt together in a large bowl; stir in 1/2 cup butter. Stir in egg yolks and strawberries, then stir in sugar and flour mixture. Stir in remaining 1 teaspoon flour mixture. Pour batter into prepared pan.\n",
            "Bake in preheated oven until a wooden pick inserted in the center comes out clean, about 50 minutes. Cool in the pan on a rack 10 to 15 minutes. Cut into portions.\n",
            "\n"
          ]
        },
        {
          "name": "stderr",
          "output_type": "stream",
          "text": [
            "Setting `pad_token_id` to `eos_token_id`:50256 for open-end generation.\n"
          ]
        },
        {
          "name": "stdout",
          "output_type": "stream",
          "text": [
            "  Batch 3,000  of  55,419. Loss: 0.1478872299194336.   Elapsed: 1:01:15.\n",
            "0:  Sahpineapple juicepineapple juiceorange juiceIn a large pitcher, combine pineapple juice, pineapple juice, orange juice and 3/4 cup water. Refrigerate until chilled, about 20 minutes.\n",
            "Pour the mixture into glasses or dishes.\n",
            "\n"
          ]
        },
        {
          "name": "stderr",
          "output_type": "stream",
          "text": [
            "Setting `pad_token_id` to `eos_token_id`:50256 for open-end generation.\n"
          ]
        },
        {
          "name": "stdout",
          "output_type": "stream",
          "text": [
            "  Batch 3,100  of  55,419. Loss: 0.43384572863578796.   Elapsed: 1:03:15.\n",
            "0:  Bryannonstick cooking spraygranulated sugarall purpose flourbaking sodasaltpeppereggcranberriescinnamonground cardamomlemonmixed dried fruitwhite winecream cheesePreheat oven to 350 degrees F. Spray a baking sheet with nonstick cooking spray and line with parchment paper, allowing a 1-inch overhang on each.\n",
            "Combine all the dry ingredients in a large bowl; toss to coat. Whisk 2 cups of flour, the baking soda, salt, and pepper in another bowl.\n",
            "Whisk the egg whites until foamy in a large bowl until foamy. Beat in 1/2 cup sugar and beat until stiff peaks form, about 4 minutes. Fold egg whites into flour mixture to lighten.\n",
            "Spread 1-ounce can of batter in 4-ounce ramekins, spaced 3 inches apart, in a 9-inch by 13-inch baking pan. Bake\n"
          ]
        },
        {
          "name": "stderr",
          "output_type": "stream",
          "text": [
            "Setting `pad_token_id` to `eos_token_id`:50256 for open-end generation.\n"
          ]
        },
        {
          "name": "stdout",
          "output_type": "stream",
          "text": [
            "  Batch 3,200  of  55,419. Loss: 0.1845611035823822.   Elapsed: 1:05:18.\n",
            "0:  spiritsgrape juicemango nectarfrozen strawberriessugarorange zestIn an ice-filled pint glass, combine grape juice, mango nectar, strawberries, sugar and orange zest. Fill with highball glass and garnish with an orange slice.\n"
          ]
        },
        {
          "name": "stderr",
          "output_type": "stream",
          "text": [
            "Setting `pad_token_id` to `eos_token_id`:50256 for open-end generation.\n"
          ]
        },
        {
          "name": "stdout",
          "output_type": "stream",
          "text": [
            "  Batch 3,300  of  55,419. Loss: 0.20220112800598145.   Elapsed: 1:07:18.\n",
            "0:  seespackage dry yeastwarm waterwhole milksugarsalteggsvegetable oilunbaked pie crustWatch how to make this recipe.\n",
            "In a large bowl, combine yeast with warm water. Let stand until yeast dissolves. Add milk and sugar and mix well to combine. Add salt and yeast mixture. Slowly add flour until all ingredients are evenly distributed.\n",
            "Pour batter into a greased pie crust. Bake at 375 degrees F for 35 minutes or until a knife inserted in the center comes out clean. When cool enough to handle, remove, slice and serve.\n"
          ]
        },
        {
          "name": "stderr",
          "output_type": "stream",
          "text": [
            "Setting `pad_token_id` to `eos_token_id`:50256 for open-end generation.\n"
          ]
        },
        {
          "name": "stdout",
          "output_type": "stream",
          "text": [
            "  Batch 3,400  of  55,419. Loss: 0.5172672867774963.   Elapsed: 1:09:20.\n",
            "0:  hungryegg whitescream of tartaregg yolkssaltwhole milkcream of tartarheavy whipping creampure sugarsaltsliced almondspowdered sugarfinely ground black pepperwhole milkvanilla extractpowdered sugarWatch how to make this recipe.\n",
            "Place egg whites, cream of tartar, egg yolks, and salt in a large stainless steel bowl and beat on medium-high speed until sugar is completely melted and the eggs are light and fluffy. Reduce the speed to medium and gradually add half of the milk. Using a rubber spatula fold the remaining milk toward the edges of the whites. In a large bowl, whip egg whites at medium speed until thick and lemon-colored. Add 1/4 cup of sugar and beat for 1 to 2 minutes more. Repeat this with remaining sugar and the milk. Gently fold the butter over the egg whites to\n"
          ]
        },
        {
          "name": "stderr",
          "output_type": "stream",
          "text": [
            "Setting `pad_token_id` to `eos_token_id`:50256 for open-end generation.\n"
          ]
        },
        {
          "name": "stdout",
          "output_type": "stream",
          "text": [
            "  Batch 3,500  of  55,419. Loss: 0.21544328331947327.   Elapsed: 1:11:23.\n",
            "0:  PTwaterquinoa floursaltground flax seedchia seedsflax seedStir water, quinoa flour, salt, ground flax seed, chia seeds, flax seed, and chia seeds together in a small bowl until quinoa flour is powdery and gluteny; cover with plastic wrap. Chill in the refrigerator until chilled, 8 hours to overnight.\n",
            "Preheat oven to 350 degrees F (175 degrees C).\n",
            "Spread 1 teaspoon grated quinoa flour onto baking sheet in a single layer; arrange 4 sheets quinoa on top. Divide dough into 3 pieces and place on the greased baking sheet.\n",
            "Bake in the preheated oven until golden, 15 to 20 minutes.\n",
            "\n"
          ]
        },
        {
          "name": "stderr",
          "output_type": "stream",
          "text": [
            "Setting `pad_token_id` to `eos_token_id`:50256 for open-end generation.\n"
          ]
        },
        {
          "name": "stdout",
          "output_type": "stream",
          "text": [
            "  Batch 3,600  of  55,419. Loss: 0.27894070744514465.   Elapsed: 1:13:25.\n",
            "0: üground chuckfinely chopped onionunsalted butterchopped onionwhole dried tomatoesdried basilsaltground black pepperground thymeground dried oreganochopped fresh parsleyground nutmegeggwaterbacon bitsBrown the ground chuck in a large pot over medium-high heat, stirring occasionally.\n",
            "Add the onion, tomatoes, basil, salt, black pepper, thyme, oregano, parsley, and nutmeg to the pan and stir to coat. Stir in the egg, water, and bacon bits. Bring to a boil. Reduce heat and cover; simmer until the meat is falling apart when pulled apart, about 1 hour.\n",
            "\n"
          ]
        },
        {
          "name": "stderr",
          "output_type": "stream",
          "text": [
            "Setting `pad_token_id` to `eos_token_id`:50256 for open-end generation.\n"
          ]
        },
        {
          "name": "stdout",
          "output_type": "stream",
          "text": [
            "  Batch 3,700  of  55,419. Loss: 0.35215115547180176.   Elapsed: 1:15:27.\n",
            "0: ruceground lambolive oilyellow onioncloves garlicdried oreganowhite winedry red winered winetomatoeswaterfreshly chopped rosemary leavesfreshly grated lemon zestWatch how to make this recipe.\n",
            "Preheat the oven to 400 degrees F.\n",
            "Heat the oil in a large skillet over medium heat. Add the lamb and cook until well browned, being careful not to burn the lamb. Remove the lamb from the skillet and set aside. Return the skillet to the stovetop.\n",
            "Heat the olive oil over medium-high heat until just smoking. Add the onions and saute until translucent. Add the garlic and oregano and cook for 1 minute. Deglaze the pan with the wine and cook until all evaporated. Allow the wine to cook for 1 minute, then turn off heat.\n",
            "Pour the wine into the skillet and stir to combine. Cover the skillet with foil\n"
          ]
        },
        {
          "name": "stderr",
          "output_type": "stream",
          "text": [
            "Setting `pad_token_id` to `eos_token_id`:50256 for open-end generation.\n"
          ]
        },
        {
          "name": "stdout",
          "output_type": "stream",
          "text": [
            "  Batch 3,800  of  55,419. Loss: 0.43158870935440063.   Elapsed: 1:17:29.\n",
            "0:  derivativesfrozen cranberry juice concentratewatercranberry pulporange flowercoconut-water-soy saucesaltskinlessfresh dill sprigs1. Place the cranberry juice concentrate, water, coconut-water-soy sauce, and salt into the blender. Blend for at least 5 minutes and then pour the contents of the blender into a large bowl. Allow the mixture to rest for 5 minutes.\n",
            "2.\n",
            "3. Place the chicken breasts in a large shallow dish and pour in the marinade concentrate mixture. Cover tightly with plastic wrap and allow to marinate in the refrigerator for at least 30 minutes.\n",
            "4. Meanwhile, place the dill sprigs in a colander and drain the liquid from the chicken. Mix the dill with the chicken and marinade concentrate. Pour the marinade mixture over the chicken and refrigerate overnight.\n",
            "5. Preheat the oven to 375 degrees\n"
          ]
        },
        {
          "name": "stderr",
          "output_type": "stream",
          "text": [
            "Setting `pad_token_id` to `eos_token_id`:50256 for open-end generation.\n"
          ]
        },
        {
          "name": "stdout",
          "output_type": "stream",
          "text": [
            "  Batch 3,900  of  55,419. Loss: 0.30433735251426697.   Elapsed: 1:19:32.\n",
            "0: \u0019ripe avocadossugarvegetable oil for deep fryingcider vinegarpure maple syrupred potatoespure maple syrupcoarsely chopped garlicblack pepperMix the avocado, sugar, vegetable oil, vinegar, maple syrup, and garlic in a food processor until smooth; season with salt and black pepper.\n",
            "Bring the potato mixture to a simmer over medium-high heat in a large bowl; whisk in the maple syrup, adding enough water as needed to keep the mixture from sticking to the pan.\n",
            "Whisk the potato puree and maple syrup into the simmering liquid, return to the sauce, and cook until the mixture is hot and mushy, about 2 minutes. Set aside.\n",
            "Puree the potatoes in the processor. Return the pureed mixture to the sauce and cook until smooth. Season with salt and black pepper.\n",
            "\n"
          ]
        },
        {
          "name": "stderr",
          "output_type": "stream",
          "text": [
            "Setting `pad_token_id` to `eos_token_id`:50256 for open-end generation.\n"
          ]
        },
        {
          "name": "stdout",
          "output_type": "stream",
          "text": [
            "  Batch 4,000  of  55,419. Loss: 0.5957069993019104.   Elapsed: 1:21:35.\n",
            "0:  rememberingpork tenderloinextra-virgin olive oilchopped onionleekeggclove garlicsaltpint cherry tomatoeslemon zestchopped fresh parsleyArrange meat on the meat, wrap in plastic, and chill overnight.\n",
            "Preheat oven to 350 degrees F. Remove meat from refrigerator and slice with 2 forks. Arrange meat on a baking sheet. Add onion, leeks and egg; cook until soft. Add garlic and season with salt and pepper. Remove from oven.\n",
            "Arrange tomatoes on top of meat on top of meat. Place roast in the oven for 15 minutes or until meat is thoroughly cooked. Remove roast from oven to a platter and set on oven. Cook for about 10 minutes or until meat is just firm up. When you are ready to assemble the beef cake, remove meat from bones.\n",
            "Fill a large skillet with water and add water. When water comes to a boil\n"
          ]
        },
        {
          "name": "stderr",
          "output_type": "stream",
          "text": [
            "Setting `pad_token_id` to `eos_token_id`:50256 for open-end generation.\n"
          ]
        },
        {
          "name": "stdout",
          "output_type": "stream",
          "text": [
            "  Batch 4,100  of  55,419. Loss: 0.6906545758247375.   Elapsed: 1:23:37.\n",
            "0:  Sourceswhole chickenfresh lime juicesaltolive oiltruffle oilthinly sliced shallotsdiced fresh cilantrochopped fresh basil leavesfinely grated carrotsred bell pepperthinly sliced celerysnow peasthinly sliced serrano hamfresh tomatoeswhite wineIn a skillet with 1 inch of oil, brown the chicken in batches of 30 seconds on all sides, adding additional oil if necessary to prevent sticking. Using a slotted spoon, remove the chicken. Add the shallots and cook for a few minutes for medium-rare. Add the cilantro, basil and carrots and stir. Add the bell pepper and celery. Stir until the bell pepper is minced, about 30 seconds. Add the lemon juice, salt, and pepper to taste and simmer. Cook until the vegetables are tender and the peppers are tender, about 35 minutes. Transfer to a large serving bowl. Add the roasted\n"
          ]
        },
        {
          "name": "stderr",
          "output_type": "stream",
          "text": [
            "Setting `pad_token_id` to `eos_token_id`:50256 for open-end generation.\n"
          ]
        },
        {
          "name": "stdout",
          "output_type": "stream",
          "text": [
            "  Batch 4,200  of  55,419. Loss: 0.22768746316432953.   Elapsed: 1:25:40.\n",
            "0: emsbeef short ribs with some meat, such as a meat grinder or pulse process (such as a food processor)slices processed american cheese such as a meat grinder or process (recommended: butcher's)Stir together the short ribs, meat, and cheese together in a bowl.\n",
            "Lightly coat meat mixture with vegetable oil and wrap in plastic wrap to keep from drying out. Refrigerate for at least 24 hours or overnight.\n",
            "Preheat a grill for high heat and lightly oil grate. Remove meat from the refrigerator 2 hours before grilling; discard cheese and cut into 1-inch pieces.\n",
            "Lightly coat meat mixture with cooking spray; grill for 5 to 7 minutes, turning only once to coat in the mixture. Turn the meat to medium-rare (the meat mixture will turn brown), and continue grilling until medium-rare, 15 to 20 minutes more. An instant-read thermometer inserted into the center should\n"
          ]
        },
        {
          "name": "stderr",
          "output_type": "stream",
          "text": [
            "Setting `pad_token_id` to `eos_token_id`:50256 for open-end generation.\n"
          ]
        },
        {
          "name": "stdout",
          "output_type": "stream",
          "text": [
            "  Batch 4,300  of  55,419. Loss: 0.3599125146865845.   Elapsed: 1:27:43.\n",
            "0: tzwaterwhite sugareggsvanilla extractbaking sodasaltall-purpose flourbaking powderchopped walnutschopped pecanssugarunsweetened shredded coconutunsalted buttermilkunsweetened shredded coconutcocoa powderPreheat oven to 350°F (175°C). Grease a 9x9x2\" baking pan and line the bottom with parchment paper.\n",
            "Combine the water, sugar, eggs, vanilla and baking soda in a large bowl; beat with an electric mixer on medium-high speed until the sugar dissolves, about 5 minutes. Add the flour and mix until incorporated. Reduce the mixer speed to medium and add the milk and 1/2 cup of shredded coconut. Mix until incorporated, scraping down the sides of the bowl as needed.\n",
            "Reduce the speed to medium and add the butter, 1/2 cup of milk, and 3\n"
          ]
        },
        {
          "name": "stderr",
          "output_type": "stream",
          "text": [
            "Setting `pad_token_id` to `eos_token_id`:50256 for open-end generation.\n"
          ]
        },
        {
          "name": "stdout",
          "output_type": "stream",
          "text": [
            "  Batch 4,400  of  55,419. Loss: 0.32025226950645447.   Elapsed: 1:29:45.\n",
            "0: maticolive oilbutterchopped parsleychopped fresh sagechopped fresh thyme leavescloves garlicchopped thyme leavesthinly sliced white part fresh fennel bulbschicken stockpint whole milkchopped fresh flat leaf parsley leavesclarified butterWhisk oil, butter and herbs together in a bowl, then add fennel and sage and thyme leaves, garlic, and thyme and toss to coat. Cover and chill dough until cold, about 2 hours. Preheat oven to 325°F. Prick each piece of chicken with a fork, then bake in preheated oven until skin is golden brown, 10 to 15 minutes. Transfer chicken to a platter and let stand, covered, about 8 minutes. Meanwhile, bring stock and milk to a simmer in a medium pot, discarding herbs. Remove chicken from broth and pour milk into pot; add parsley, half\n"
          ]
        },
        {
          "name": "stderr",
          "output_type": "stream",
          "text": [
            "Setting `pad_token_id` to `eos_token_id`:50256 for open-end generation.\n"
          ]
        },
        {
          "name": "stdout",
          "output_type": "stream",
          "text": [
            "  Batch 4,500  of  55,419. Loss: 0.2056863158941269.   Elapsed: 1:31:48.\n",
            "0:  syndbutterall purpose flourwhite sugarcornstarchunsweetened cocoa powdersaltsquares unsweetened chocolatechopped pecansvanilla extractbuttermilkeggwatermilk chocolateshorteningwhite sugarvanilla extractconfectioners' sugarwaterunsalted peanutsheavy creamPreheat oven to 350 degrees F (175 degrees C). Grease the bottom and sides of a 9-inch round cake pan.\n",
            "In a medium saucepan melt together the butter and white sugar over medium-low heat. Allow to cool completely. In a medium bowl, beat the cornstarch, cocoa powder and salt. Stir in the chocolate. Mix well to blend the chocolate. Add the chopped nuts and raisins and stir to combine. Pour the chocolate mixture over the chocolate mixture and stir thoroughly with a rubber spatula. Spread evenly over the bottom of the prepared pan.\n",
            "\n"
          ]
        },
        {
          "name": "stderr",
          "output_type": "stream",
          "text": [
            "Setting `pad_token_id` to `eos_token_id`:50256 for open-end generation.\n"
          ]
        },
        {
          "name": "stdout",
          "output_type": "stream",
          "text": [
            "  Batch 4,600  of  55,419. Loss: 0.23345373570919037.   Elapsed: 1:33:50.\n",
            "0:  gamall purpose flourbaking powdersaltfreshly grated parmesanbuttershredded mild cheddar cheeseworcestershire sauceground black pepperPreheat oven to 350 degrees F (175 degrees C).\n",
            "In a medium mixing bowl, cream together the flour, baking powder and salt. Beat in the Parmesan cheese and Worcestershire sauce until the mixture is smooth.\n",
            "Pour the dough onto a sheet of plastic wrap, leaving a 2 inch between each dough. Place parchment paper on top.\n",
            "In a medium mixing bowl, melt the butter and stir until the mixture is the consistency of small peas. Mix in the crushed cheese and Worcestershire sauce until combined. Spoon the mixture onto the dough and smooth the top.\n",
            "Bake for 20 minutes in the preheated oven. Remove from the oven, sprinkle each piece with 2 tablespoons Parmesan cheese and serve warm with the soup.\n",
            "\n"
          ]
        },
        {
          "name": "stderr",
          "output_type": "stream",
          "text": [
            "Setting `pad_token_id` to `eos_token_id`:50256 for open-end generation.\n"
          ]
        },
        {
          "name": "stdout",
          "output_type": "stream",
          "text": [
            "  Batch 4,700  of  55,419. Loss: 0.5464919209480286.   Elapsed: 1:35:52.\n",
            "0:  injurytangerine juicehoneyred wine vinegardry mustardworcestershire saucecloves garlicground black pepperolive oilsaltStir together the tangerine juice, honey, vinegar, mustard, Worcestershire sauce, garlic, and pepper in a small saucepan; bring to a boil. Reduce heat to low, cover, and simmer until thickened, about 15 minutes. Stir in the olive oil and season with salt and black pepper.\n",
            "\n"
          ]
        },
        {
          "name": "stderr",
          "output_type": "stream",
          "text": [
            "Setting `pad_token_id` to `eos_token_id`:50256 for open-end generation.\n"
          ]
        },
        {
          "name": "stdout",
          "output_type": "stream",
          "text": [
            "  Batch 4,800  of  55,419. Loss: 1.0963268280029297.   Elapsed: 1:37:53.\n",
            "0: azawatersoyunsalted butteroniondried cranberriesall purpose floursaltdry mustarddried tarragonred wine vinegarheavy creamfinely grated orange peelfinely grated peeled gingerfinely chopped fresh chivescoarsely grated lime peelcrusty dijon mustardTo make filling, soak 1 pound dried cranberries, 4 tablespoons warm water, and 1 tablespoon oil in medium saucepan until slightly tender, stirring often, about 30 minutes. Mix first 3 ingredients in medium bowl; set aside. Melt 2 tablespoons butter with remaining tablespoon oil in large skillet over medium-high heat. Add onion and sauté until soft and golden, about 5 minutes. Sprinkle with salt and pepper. Stir mustard into mixture. Stir in remaining 1 tablespoon cranberries and 1/4 teaspoon pepper. Toss with 2 tablespoons flour and reserved 1 tablespoon drippings and sauté until golden\n"
          ]
        },
        {
          "name": "stderr",
          "output_type": "stream",
          "text": [
            "Setting `pad_token_id` to `eos_token_id`:50256 for open-end generation.\n"
          ]
        },
        {
          "name": "stdout",
          "output_type": "stream",
          "text": [
            "  Batch 4,900  of  55,419. Loss: 0.4122620224952698.   Elapsed: 1:39:56.\n",
            "0:  membraneolive oilred onioncloves garliccloves garlicdiced radicchiofreshly ground black pepperchicken brothwatersprigs rosemarysprigs mintHeat a large non-stick saute pan over medium high heat and add olive oil. Add red onion and cook until it is softened, about 4 minutes. Stir in garlic, cook until it is fragrant, and just beginning to brown, about 3 minutes more. Add radicchio and cook until tender, about 3 minutes more. Stir in the pepper and cook until the tomatoes are heated through, about 3 minutes.\n",
            "Pour broth into a saucepan and bring to a boil over high heat. Reduce the heat to medium and simmer until reduced to about 2 cups, about 25 minutes. Stir in rosemary, mint and salt. If the broth is too thick for you can adjust the seasoning.\n",
            "Taste for seasoning. Spoon the tomato broth in the bottom of\n"
          ]
        },
        {
          "name": "stderr",
          "output_type": "stream",
          "text": [
            "Setting `pad_token_id` to `eos_token_id`:50256 for open-end generation.\n"
          ]
        },
        {
          "name": "stdout",
          "output_type": "stream",
          "text": [
            "  Batch 5,000  of  55,419. Loss: 0.37262627482414246.   Elapsed: 1:41:59.\n",
            "0: ijingcooking spraywhole almondsfirmly packed brown sugarcinnamonground cinnamonground gingerground nutmegsaltCoat an 8x4 inch loaf pan with cooking spray.\n",
            "In a food processor, or blender, grind the almonds until lightly ground and the color of salt. Add the brown sugar and cinnamon and pulse until nuts are completely ground. Reserve.\n",
            "Add the flour to the food processor and pulse until the mixture resembles coarse meal. Add the salt, 1/2 cup at a time, and pulse a few more to form a dough. Add 2 or 3 portions at a time, and pulse the rest, pulse for about 30 or 45 seconds. Add 1/2 cup at a time, and pulse for 30 more seconds. Transfer the dough into the prepared loaf pan.\n",
            "Cover with plastic wrap. Press the top into the pan so it comes out clean or not too moist. This should prevent the dough from getting dry.\n"
          ]
        },
        {
          "name": "stderr",
          "output_type": "stream",
          "text": [
            "Setting `pad_token_id` to `eos_token_id`:50256 for open-end generation.\n"
          ]
        },
        {
          "name": "stdout",
          "output_type": "stream",
          "text": [
            "  Batch 5,100  of  55,419. Loss: 0.11077111959457397.   Elapsed: 1:44:02.\n",
            "0:  castwaterlemon wedgeswhite sugarminced fresh gingerall purpose flourhot waterlemon pepperBring a pot of water to a boil. Place a strip of lemon on the long side of the lemon to form a bouquet garni. Cut a bouquet garni into long strips, and cut the long strips into 1/4-inch strips.\n",
            "Bring 4 cups of water to a boil in a saucepan. Reduce heat to medium-low and simmer for 15 minutes. Drain the bouquet garni and cut in half. Pour the cold water over the strips to ensure them keep water from evaporated. Set aside to cool.\n",
            "In a mixing bowl, whisk together the sugar, ginger and flour. Whisk into the water until smooth. Do not over mix or the mixture will dry out. Stir in the hot water, lemon pepper and vanilla. Let cool and store in the refrigerator.\n",
            "\n"
          ]
        },
        {
          "name": "stderr",
          "output_type": "stream",
          "text": [
            "Setting `pad_token_id` to `eos_token_id`:50256 for open-end generation.\n"
          ]
        },
        {
          "name": "stdout",
          "output_type": "stream",
          "text": [
            "  Batch 5,200  of  55,419. Loss: 0.4037137031555176.   Elapsed: 1:46:04.\n",
            "0:  purchvegetable oiloniongreen bell pepperbacondiced tomatoesdiced tomatoeschopped fresh basilsaltHeat oil in a large skillet over medium-high heat. Add onion, red bell pepper and bacon; cook and stir until bacon is evenly browned and onion is soft and starting to crisp, about 10 minutes.\n",
            "Pour onion mixture, tomatoes, and basil into the skillet; cook and stir until heated through and fragrant, 2 to 3 minutes. Season with salt and pepper.\n",
            "\n"
          ]
        },
        {
          "name": "stderr",
          "output_type": "stream",
          "text": [
            "Setting `pad_token_id` to `eos_token_id`:50256 for open-end generation.\n"
          ]
        },
        {
          "name": "stdout",
          "output_type": "stream",
          "text": [
            "  Batch 5,300  of  55,419. Loss: 0.7305725812911987.   Elapsed: 1:48:05.\n",
            "0:  shouldersbeef blade steakssaltvegetableoniontomato saucecloves garlicwaterketchupminced fresh thymedried parsleyTo Make the steak: Preheat the oven to 400 degrees F.\n",
            "Lay the steak on a cutting board and sprinkle it with salt and pepper. Heat the oil in a skillet over high heat. Add the steak to the hot oil, then sear it until the meat is cooked all the way through, about 4 minutes on each side. Arrange the steak and onions on a baking sheet.\n",
            "Bake the steak and onions in the oven until the steak is golden brown and the onion is tender, about 15 minutes. An instant-read thermometer inserted into the center should read 140 degrees F.\n",
            "Meanwhile, heat the tomato sauce in a medium skillet over medium-high heat. Stir in the garlic and cook until the garlic is golden and has softened, 2 to 3 minutes\n"
          ]
        },
        {
          "name": "stderr",
          "output_type": "stream",
          "text": [
            "Setting `pad_token_id` to `eos_token_id`:50256 for open-end generation.\n"
          ]
        },
        {
          "name": "stdout",
          "output_type": "stream",
          "text": [
            "  Batch 5,400  of  55,419. Loss: 0.5567948818206787.   Elapsed: 1:50:08.\n",
            "0:  builteggsitalian hot chili saucechopped yellow onionmushroomschopped green bell peppergarlic clovesbuttercayenne pepperground beefwhole tomatoescrushed red peppercrushed tomatoeschicken stockchopped fresh thymedried oreganobay leafPreheat oven to 450°F. Lightly grease an 8-inch square baking pan. Whisk together eggs, chili sauce, onion, and mushrooms in a bowl; set aside. Add garlic, butter, cayenne pepper, and ground beef; stir gently to coat. Spoon mixture into prepared pan; cover and bake for 1 hour, or until a knife inserted into the center of a loaf reads 180°F. Turn loaf out onto a cutting board; let rest for 10 minutes before slicing.\n",
            "Preheat oven to 450°F. Lightly grease an 8-inch square baking pan.\n",
            "Whisk together eggs\n"
          ]
        },
        {
          "name": "stderr",
          "output_type": "stream",
          "text": [
            "Setting `pad_token_id` to `eos_token_id`:50256 for open-end generation.\n"
          ]
        },
        {
          "name": "stdout",
          "output_type": "stream",
          "text": [
            "  Batch 5,500  of  55,419. Loss: 0.30994710326194763.   Elapsed: 1:52:10.\n",
            "0:  openlychopped onionchopped red bell peppercloves garlicgreen bell pepperchopped scallionschopped fresh parsleychopped onionkosher saltchopped carrotsmashed potatoesmilkmashed potatoesIn a large soup pot, over medium heat, saute the onion in the oil until lightly browned and translucent. Stir in the bell pepper, garlic and scallions and parsley and cook until the vegetables have softened. Stir in the vegetable mixture and season with salt and pepper, to taste. Bring to a simmer and cook until the carrots are tender and the potatoes are cooked through, about 45 minutes.\n",
            "Add the potatoes and milk and continue to simmer over medium heat for 15 minutes.\n"
          ]
        },
        {
          "name": "stderr",
          "output_type": "stream",
          "text": [
            "Setting `pad_token_id` to `eos_token_id`:50256 for open-end generation.\n"
          ]
        },
        {
          "name": "stdout",
          "output_type": "stream",
          "text": [
            "  Batch 5,600  of  55,419. Loss: 0.7017815113067627.   Elapsed: 1:54:11.\n",
            "0:  haltedpearl onionseggcrushed cornbread stuffingPlace onions into a saucepan. Cover with water and bring to a boil over medium heat. Reduce heat to low and cook until soft and translucent, about 15 minutes. Drain.\n",
            "In a mixing bowl, combine eggs, crushed cornbread stuffing and onion. Add egg mixture.\n",
            "Heat through and serve.\n",
            "\n"
          ]
        },
        {
          "name": "stderr",
          "output_type": "stream",
          "text": [
            "Setting `pad_token_id` to `eos_token_id`:50256 for open-end generation.\n"
          ]
        },
        {
          "name": "stdout",
          "output_type": "stream",
          "text": [
            "  Batch 5,700  of  55,419. Loss: 0.9060524702072144.   Elapsed: 1:56:12.\n",
            "0:  Nikwhite winepackage active dry yeastwarm milkwhite sugarall purpose flouractive dry yeastPlace sugar in a small saucepan and cook over medium heat, without stirring, 5 minutes.\n",
            "Combine 1 1/2 cups milk and 2 tablespoons sugar in a bowl and stir to dissolve sugar. Gradually stir in flour until dough has a rough-textured ball. Turn dough out onto a well-floured surface and knead for 3 minutes. Cut dough in half; keep each half covered by a damp towel with some flour.\n",
            "Place 1 half of dough in a greased bowl. Lightly dust and flour the dough and turn on to coat the dough with oil. Lightly cover dough with a damp cloth, and let rise in a warm place until doubled in volume, about 40 minutes.\n",
            "While dough rises, heat remaining 1 tablespoon sugar in a small skillet over medium heat. Stir in flour for 2 minutes, then stir in milk and bring to\n"
          ]
        },
        {
          "name": "stderr",
          "output_type": "stream",
          "text": [
            "Setting `pad_token_id` to `eos_token_id`:50256 for open-end generation.\n"
          ]
        },
        {
          "name": "stdout",
          "output_type": "stream",
          "text": [
            "  Batch 5,800  of  55,419. Loss: 0.44388678669929504.   Elapsed: 1:58:14.\n",
            "0:  tinextra virgin olive oilpork sirloin steakssaltcloves garlicall purpose flourcornstarchdried crushed red pepper flakessugarwatershredded swiss cheeseBrush the grates with olive oil and season the meat with salt and pepper and put the steaks on both sides. Stuff the garlic cloves into the meat. Sprinkle 1/4 teaspoon salt over the meat and place them down. Fold the 2 cloves of garlic into the beef.\n",
            "Take your fingers and push the garlic around to cover the meat. Add the flour and coat both sides.\n",
            "In a small bowl, stir together the cornstarch and red pepper flakes. Add to the meat.\n",
            "In a small skillet, heat the olive oil to a boil, add the steaks and cook for 4 to 5 minutes on each side.\n",
            "In a large bowl, add the sauce ingredients and toss to coat, adding salt and pepper.\n"
          ]
        },
        {
          "name": "stderr",
          "output_type": "stream",
          "text": [
            "Setting `pad_token_id` to `eos_token_id`:50256 for open-end generation.\n"
          ]
        },
        {
          "name": "stdout",
          "output_type": "stream",
          "text": [
            "  Batch 5,900  of  55,419. Loss: 0.5781235694885254.   Elapsed: 2:00:16.\n",
            "0:  clinicalskinless boneless chicken thighsolive oilonioncloves garlicchinese black pepperfinely chopped fresh parsleychopped fresh rosemaryfresh rosemary sprigssprigs thymekosher saltskinless boneless chicken thighsveal stockyellow onionsred potatoesveal stockwaterfresh mushroomsstalks celeryzucchiniyellow squashgarlic clovesbuttersaltground black pepperheavy whipping creamPreheat oven to 400 degrees F (200 degrees C).\n",
            "Place chicken in a 9x5 inch loaf pan. Drizzle with oil and season with salt and pepper. Place chicken in a shallow baking pan or baking dish, and pour with the remaining oil, 1 tablespoon olive oil, and chicken juices. Roast chicken in preheated oven 10 minutes, then reduce heat to 375 degrees F (190 degrees C) and bake at 375 degrees\n"
          ]
        },
        {
          "name": "stderr",
          "output_type": "stream",
          "text": [
            "Setting `pad_token_id` to `eos_token_id`:50256 for open-end generation.\n"
          ]
        },
        {
          "name": "stdout",
          "output_type": "stream",
          "text": [
            "  Batch 6,000  of  55,419. Loss: 0.6627846360206604.   Elapsed: 2:02:19.\n",
            "0: lectionspackage active dry yeastbread flourvegetable oilwatersugarsalteggsvegetable oilwhite vinegarsugarcornstarchIn large mixing bowl mix yeast, bread flour, oil, and water. Pour into large mixing bowl. Stir in sugar, salt, and 1 tablespoon of sugar. Stir in eggs one at a time, mixing thoroughly after each addition.\n",
            "Place 1 tablespoon of vegetable oil in slow cooker. Place the yeast mixture into the pot and continue heating until bubbly and dry, about 5 minutes.\n",
            "Pour into a large mixing bowl and stir in cornstarch. Stir until smooth and smooth.\n",
            "Cover and cook on LOW setting for 3 to 4 hours.\n",
            "Gently stir constantly until creamy and thickened, about 20 to 30 minutes. Stir in 1 cup warm water to thin it out. Serve hot.\n",
            "\n"
          ]
        },
        {
          "name": "stderr",
          "output_type": "stream",
          "text": [
            "Setting `pad_token_id` to `eos_token_id`:50256 for open-end generation.\n"
          ]
        },
        {
          "name": "stdout",
          "output_type": "stream",
          "text": [
            "  Batch 6,100  of  55,419. Loss: 0.6123448014259338.   Elapsed: 2:04:21.\n",
            "0: elsall purpose floursugarbaking powderbaking sodasaltsticks cold unsalted buttereggheavy creamunsalted butterpure vanilla extractSpecial equipment: a 2-inch round biscuit cutter (about 1 1/3-inches in diameter)\n",
            "Preheat the oven to 350 degrees F. Butter 12 muffin tins.\n",
            "Place 1 cup flour in a bowl. In another bowl, add the sugar, baking powder, baking soda and salt. Add the butter, and mix with a fork to combine.\n",
            "Whisk the egg and heavy cream until blended, then add the flour mixture and mix until the dough becomes slightly sticky. Gently pat into the prepared muffin tins, buttered each.\n",
            "Bake the tins for 10 to 12 minutes. Remove to a wire rack and cool for 5 minutes.\n",
            "The tarts may need a little flour, 1 1/2 to 2 tablespoons. Cut each muffin\n"
          ]
        },
        {
          "name": "stderr",
          "output_type": "stream",
          "text": [
            "Setting `pad_token_id` to `eos_token_id`:50256 for open-end generation.\n"
          ]
        },
        {
          "name": "stdout",
          "output_type": "stream",
          "text": [
            "  Batch 6,200  of  55,419. Loss: 0.26969844102859497.   Elapsed: 2:06:23.\n",
            "0: labpackage semisweet chocolate chipssugarpackage cream cheesewhite sugareggsvanilla extractPreheat oven to 325 degrees F (165 degrees C). Grease an 8x12 inch pan.\n",
            "Melt semisweet chocolate chips in a double boiler over simmering water. Remove from heat, and stir in sugar and cream cheese. Mix until creamy and well blended. Beat in eggs and vanilla.\n",
            "Pour cream cheese mixture into the prepared pan. Stir in semisweet chocolate chips. Spread mixture over the top of the cream cheese mixture.\n",
            "Bake for 45 minutes in the preheated oven, or until knife inserted in the center of the cookie comes out clean. Allow to cool on a wire rack.\n",
            "\n"
          ]
        },
        {
          "name": "stderr",
          "output_type": "stream",
          "text": [
            "Setting `pad_token_id` to `eos_token_id`:50256 for open-end generation.\n"
          ]
        },
        {
          "name": "stdout",
          "output_type": "stream",
          "text": [
            "  Batch 6,300  of  55,419. Loss: 0.3648514747619629.   Elapsed: 2:08:25.\n",
            "0:  tripleextra virgin olive oilonionwhole milkgrated parmesangrated parmesan cheesepackage mushroomstomatoestomato pasteworcestershire saucegarlic powderkosher saltcanned cooked spaghettipitted black oliveslemonfinely grated lemon zestfreshly ground white peppergrated parmesan cheeseeggschopped fresh parsleygrated parmesan cheesescallionsMake the meatballs: Heat oil in a large saute pan over medium heat. Add onion and cook until softened, 4 to 5 minutes. Add milk and simmer until slightly thickened, 10 to 15 minutes. Remove from heat.\n",
            "Serve on the toasted sirloin.\n",
            "To make the tomatoes sauce: Stir together all ingredients. Set aside.\n",
            "To make the marinara sauce: Melt 1 tablespoon butter in a small saucepan over medium\n"
          ]
        },
        {
          "name": "stderr",
          "output_type": "stream",
          "text": [
            "Setting `pad_token_id` to `eos_token_id`:50256 for open-end generation.\n"
          ]
        },
        {
          "name": "stdout",
          "output_type": "stream",
          "text": [
            "  Batch 6,400  of  55,419. Loss: 0.2847500145435333.   Elapsed: 2:10:28.\n",
            "0: 220saltpork tenderloinwaterparsnipsonionunsalted butterdry white wineclarified buttersprigs fresh parsleyWatch how to make this recipe.\n",
            "Combine the salt, parsnips, onions and butter in a bowl. Add 1/4 cup of the clarified butter, whisking well. Add the wine, the butter, and 1/2 cup more clarified butter to the bowl. Stir to combine.\n",
            "Pour the reserved wine mixture into a nonreactive bowl. Stir in the grated cheese and the parsley. Season with salt and pepper.\n",
            "To serve, place 3 to 4 slices of pork on each of 4 plates, about 1/2 cup per plate. Spoon the sauce over the top of each slice.\n"
          ]
        },
        {
          "name": "stderr",
          "output_type": "stream",
          "text": [
            "Setting `pad_token_id` to `eos_token_id`:50256 for open-end generation.\n"
          ]
        },
        {
          "name": "stdout",
          "output_type": "stream",
          "text": [
            "  Batch 6,500  of  55,419. Loss: 0.5680733323097229.   Elapsed: 2:12:29.\n",
            "0:  Seemayo cheesewhole milkhalfwhite wine vinegarsaltsugarplus 2 tablespoons mayonnaiseminced flat leaf parsleyfreshly ground black peppersaltpinch of freshly cracked black pepperFill large wide glass with ice. Bring milk, half, wine vinegar, salt, sugar, and 2 tablespoons mayonnaise to boil in heavy medium saucepan over medium heat. Reduce heat and simmer, whisking, until mixture is thick, whisking constantly, about 20 minutes. Add enough dressing to thin to desired consistency. Season with pepper, if desired.\n",
            "Fill large wide glass with ice. Bring milk, half, wine vinegar, salt, sugar, and 2 tablespoons mayonnaise to boil in heavy medium saucepan over medium heat. Reduce heat and simmer, whisking, until mixture is thick, whisking constantly, about 20 minutes. Add enough dressing to thin to desired consistency. Season with pepper, if desired.\n"
          ]
        },
        {
          "name": "stderr",
          "output_type": "stream",
          "text": [
            "Setting `pad_token_id` to `eos_token_id`:50256 for open-end generation.\n"
          ]
        },
        {
          "name": "stdout",
          "output_type": "stream",
          "text": [
            "  Batch 6,600  of  55,419. Loss: 0.17283441126346588.   Elapsed: 2:14:32.\n",
            "0: @@russet potatoesfresh cilantro leaveseggsmilkkosher saltfreshly ground black peppercayenne pepperpure olive oilfresh italian parsleychopped fresh chivesgarlic cloveolive oilcloves garliconionall purpose floursaltbaking powdervegetable oilbaking sodabuttermilkegg yolkground cinnamonground cuminbaking powderonion powderall purpose floursaltbaking powderbaking sodacanola oilmilkPreheat the oven to 325 degrees F.\n",
            "Bring a pot of salted water to a boil. Add the potatoes and cook as the label directs for the potatoes.\n",
            "Cut the remaining potatoes in quarters lengthwise into very thin strips, about 10 inches long. Separate the potato strips into very thin strips, then place a large piece of foil\n"
          ]
        },
        {
          "name": "stderr",
          "output_type": "stream",
          "text": [
            "Setting `pad_token_id` to `eos_token_id`:50256 for open-end generation.\n"
          ]
        },
        {
          "name": "stdout",
          "output_type": "stream",
          "text": [
            "  Batch 6,700  of  55,419. Loss: 0.4137256443500519.   Elapsed: 2:16:35.\n",
            "0:  hostdried chiles de arbol chiles de arbolfresh mint leavesplus 1/2 cup light corn syrupwhole milkwhipping creamfinely chopped bittersweet chocolatepinch of kosher saltWatch how to make this recipe.\n",
            "Preheat the oven to 350 degrees F. Place a square of foil on a piece of aluminum foil and place it on the foil.\n",
            "Grind the chiles and 1/2 teaspoon of cumin together to form a paste.\n",
            "Place the seeds and spices in a blender and place on the bottom shelf of the oven. Stir the sugar, 1 tablespoon water, and the reserved chiles into the syrup. Place the lid over the jar, cover tightly, and shake for 2 hours or so.\n",
            "Place the bowl into a bowl and scrape out any seeds and soaking liquid. Place the bowl in the refrigerator to cool completely.\n",
            "In a saucepan, over low heat, bring the milk to a boil\n"
          ]
        },
        {
          "name": "stderr",
          "output_type": "stream",
          "text": [
            "Setting `pad_token_id` to `eos_token_id`:50256 for open-end generation.\n"
          ]
        },
        {
          "name": "stdout",
          "output_type": "stream",
          "text": [
            "  Batch 6,800  of  55,419. Loss: 0.6096236109733582.   Elapsed: 2:18:37.\n",
            "0: rolebutterwhite sugareggsorange extractall purpose flourchopped walnutssaltground cinnamonground clovesground cinnamonground clovesground allspiceground gingerground cloveschopped pecanscrisco® butter flavor all vegetable shorteningfinely chopped pecansfrozen whipped toppingCream together butter or margarine or margarine or margarine or margarine or margarine, vanilla, flour, walnuts, salt, and spices. Add nuts, sugar, and spices.\n",
            "Bake 8 to 10 minutes or until firm.\n",
            "\n"
          ]
        },
        {
          "name": "stderr",
          "output_type": "stream",
          "text": [
            "Setting `pad_token_id` to `eos_token_id`:50256 for open-end generation.\n"
          ]
        },
        {
          "name": "stdout",
          "output_type": "stream",
          "text": [
            "  Batch 6,900  of  55,419. Loss: 0.4201053977012634.   Elapsed: 2:20:39.\n",
            "0: iaccooking sprayall purpose flourwhite sugarbutterbaking powdersaltpeanut buttermilkeggsorange flavored liqueurPreheat an oven to 350 degrees F (175 degrees C). Spray a 9x13-inch baking dish with cooking spray.\n",
            "Combine the flour, sugar, and baking powder in a large bowl. In a separate bowl, combine the butter, milk, eggs and liqueur. Gradually add the flour mixture to the flour mixture, stirring constantly, and mix until moistened and just combined. Spread the batter in the prepared baking dish.\n",
            "Bake in the preheated oven until golden brown on the top, about 20 minutes. Cool before cutting into squares.\n",
            "\n"
          ]
        },
        {
          "name": "stderr",
          "output_type": "stream",
          "text": [
            "Setting `pad_token_id` to `eos_token_id`:50256 for open-end generation.\n"
          ]
        },
        {
          "name": "stdout",
          "output_type": "stream",
          "text": [
            "  Batch 7,000  of  55,419. Loss: 0.6968487501144409.   Elapsed: 2:22:40.\n",
            "0:  LDsushi fishextra-virgin olive oiljamaican olivesfreshly ground black pepperred onionscallionscoarsely chopped fresh parsleyminced shallotcrushed red pepper flakessherry vinegarfinely chopped fresh basil leavesfinely chopped dillfresh lime juicefinely grated orange zestsherry vinegarsaltfreshly ground black pepperfinely chopped fresh oreganoWatch how to make this recipe.\n",
            "Rinse shrimp under cold water and pat dry. Cut scallions, parsley, shallot, red pepper flakes, sherry vinegar, basil and parsley into very thin slices (about 1 1/2 inches thick). Coat both sides of shrimp with marinade, then season with salt and pepper.\n",
            "Heat a grill to high.\n",
            "Put shrimp, scallions, parsley, shallot, red pepper flakes, sherry vinegar\n"
          ]
        },
        {
          "name": "stderr",
          "output_type": "stream",
          "text": [
            "Setting `pad_token_id` to `eos_token_id`:50256 for open-end generation.\n"
          ]
        },
        {
          "name": "stdout",
          "output_type": "stream",
          "text": [
            "  Batch 7,100  of  55,419. Loss: 0.22370858490467072.   Elapsed: 2:24:42.\n",
            "0:  Listenextra virgin olive oilcloves garlicfreshfresh lime juiceworcestershire saucefreshly squeezed lime juicechopped fresh chivesPreheat the oven to 350 degrees F. Heat a large griddle or ovenproof heavy skillet over medium-high heat.\n",
            "Brush the olive oil on both sides of the garlic cloves and add it to the hot griddle. Stir together to make sure there is no clumps of garlic remaining. Cook, swirling the griddle, just until it begins to bubble and the oil is hot. Sprinkle the garlic butter over the garlic butter and stir. Stir and cook a minute or two until butter is melted and garlic butter is melted. Transfer half of the garlic butter to a medium bowl to cool.\n",
            "Whisk together the lime juice and Worcestershire sauce and the remaining garlic butter in a medium bowl. Add the lime juice mixture to the skillet and bring to a simmer over medium-low heat.\n"
          ]
        },
        {
          "name": "stderr",
          "output_type": "stream",
          "text": [
            "Setting `pad_token_id` to `eos_token_id`:50256 for open-end generation.\n"
          ]
        },
        {
          "name": "stdout",
          "output_type": "stream",
          "text": [
            "  Batch 7,200  of  55,419. Loss: 0.3315848112106323.   Elapsed: 2:26:44.\n",
            "0:  dyall purpose flourstick unsalted buttergranulated sugarcocoa powderbaking powdersaltstick unsalted buttervanilla extractmascarpone cheesechopped pecansSpecial equipment: 10-inch metal fondue forks\n",
            "For the cupcakes: Position an oven rack in the center of the oven and preheat to 350 degrees F. Line a 12-by-18-inch cake pan with 12 cupcake papers.\n",
            "In a medium-sized mixing bowl, cream together the flour, butter and granulated sugar until smooth, about 3 minutes. Add the cocoa powder, baking powder and salt. Beat until the butter is fully incorporated into the flour mixture. Add the melted butter. Add the vanilla extract.\n",
            "In a large mixer fitted with the whisk attachment, cream together the butter, sugar, vanilla extract, mascarpone cheese, pecans and chocolate. When the butter is fully incorporated, fold in the flour\n"
          ]
        },
        {
          "name": "stderr",
          "output_type": "stream",
          "text": [
            "Setting `pad_token_id` to `eos_token_id`:50256 for open-end generation.\n"
          ]
        },
        {
          "name": "stdout",
          "output_type": "stream",
          "text": [
            "  Batch 7,300  of  55,419. Loss: 0.8364984393119812.   Elapsed: 2:28:47.\n",
            "0:  Domesticgarlic clovesweet redsweet red bell peppersyellow onionschopped fresh flat leaf parsleykosher saltfreshly ground black pepperHeat a large nonstick skillet over medium heat. Add the garlic and stir until golden brown, about 1 minute. Add the chiles, bell peppers and onions. Cook, stirring occasionally, until the onions are tender, about 8 minutes. Stir in the parsley, salt and pepper. Cover and cook, stirring occasionally, until the chili is slightly toasted and the sauce is reduced to about 1/3 cup, about 15 minutes. Serve hot with a small bowl of warm chili topped with a small handful of warm chili.\n"
          ]
        }
      ],
      "source": [
        "total_t0 = time.time()\n",
        "\n",
        "training_stats = []\n",
        "\n",
        "model = model.to(device)\n",
        "\n",
        "for epoch_i in range(0, epochs):\n",
        "\n",
        "    # ========================================\n",
        "    #               Training\n",
        "    # ========================================\n",
        "\n",
        "    print(\"\")\n",
        "    print('======== Epoch {:} / {:} ========'.format(epoch_i + 1, epochs))\n",
        "    print('Training...')\n",
        "\n",
        "    t0 = time.time()\n",
        "\n",
        "    total_train_loss = 0\n",
        "\n",
        "    model.train()\n",
        "\n",
        "    for step, batch in enumerate(train_dataloader):\n",
        "\n",
        "        b_input_ids = batch[0].to(device)\n",
        "        b_labels = batch[0].to(device)\n",
        "        b_masks = batch[1].to(device)\n",
        "\n",
        "        model.zero_grad()        \n",
        "\n",
        "        outputs = model(  b_input_ids,\n",
        "                          labels=b_labels, \n",
        "                          attention_mask = b_masks,\n",
        "                          token_type_ids=None\n",
        "                        )\n",
        "\n",
        "        loss = outputs[0]  \n",
        "\n",
        "        batch_loss = loss.item()\n",
        "        total_train_loss += batch_loss\n",
        "\n",
        "        # Get sample every x batches.\n",
        "        if step % sample_every == 0 and not step == 0:\n",
        "            \n",
        "            elapsed = format_time(time.time() - t0)\n",
        "            print('  Batch {:>5,}  of  {:>5,}. Loss: {:>5,}.   Elapsed: {:}.'.format(step, len(train_dataloader), batch_loss, elapsed))\n",
        "\n",
        "            model.eval()\n",
        "\n",
        "            sample_outputs = model.generate(\n",
        "                                    bos_token_id=random.randint(1,30000),\n",
        "                                    do_sample=True,   \n",
        "                                    top_k=50, \n",
        "                                    max_length = 200,\n",
        "                                    top_p=0.95, \n",
        "                                    num_return_sequences=1\n",
        "                                )\n",
        "            for i, sample_output in enumerate(sample_outputs):\n",
        "                  print(\"{}: {}\".format(i, tokenizer.decode(sample_output, skip_special_tokens=True)))\n",
        "            \n",
        "            model.train()\n",
        "            model.save_pretrained(\"./models/TrainRecipeBox/Ing\")\n",
        "            tokenizer.save_pretrained(\"./models/tokenizer/Ing\")\n",
        "\n",
        "        loss.backward()\n",
        "\n",
        "        optimizer.step()\n",
        "\n",
        "        scheduler.step()\n",
        "\n",
        "    # Calculate the average loss over all of the batches.\n",
        "    avg_train_loss = total_train_loss / len(train_dataloader)       \n",
        "    \n",
        "    # Measure how long this epoch took.\n",
        "    training_time = format_time(time.time() - t0)\n",
        "\n",
        "    print(\"\")\n",
        "    print(\"  Average training loss: {0:.2f}\".format(avg_train_loss))\n",
        "    print(\"  Training epoch took: {:}\".format(training_time))\n",
        "    model.save_pretrained(\"./models/TrainRecipeBox/Ing\")\n",
        "    # ========================================\n",
        "    #               Validation\n",
        "    # ========================================\n",
        "\n",
        "    print(\"\")\n",
        "    print(\"Running Validation...\")\n",
        "\n",
        "    t0 = time.time()\n",
        "\n",
        "    model.eval()\n",
        "\n",
        "    total_eval_loss = 0\n",
        "    nb_eval_steps = 0\n",
        "\n",
        "    # Evaluate data for one epoch\n",
        "    for batch in validation_dataloader:\n",
        "        \n",
        "        b_input_ids = batch[0].to(device)\n",
        "        b_labels = batch[0].to(device)\n",
        "        b_masks = batch[1].to(device)\n",
        "        \n",
        "        with torch.no_grad():        \n",
        "\n",
        "            outputs  = model(b_input_ids, \n",
        "#                            token_type_ids=None, \n",
        "                             attention_mask = b_masks,\n",
        "                            labels=b_labels)\n",
        "          \n",
        "            loss = outputs[0]  \n",
        "            \n",
        "        batch_loss = loss.item()\n",
        "        total_eval_loss += batch_loss        \n",
        "\n",
        "    avg_val_loss = total_eval_loss / len(validation_dataloader)\n",
        "    \n",
        "    validation_time = format_time(time.time() - t0)    \n",
        "\n",
        "    print(\"  Validation Loss: {0:.2f}\".format(avg_val_loss))\n",
        "    print(\"  Validation took: {:}\".format(validation_time))\n",
        "\n",
        "    # Record all statistics from this epoch.\n",
        "    training_stats.append(\n",
        "        {\n",
        "            'epoch': epoch_i + 1,\n",
        "            'Training Loss': avg_train_loss,\n",
        "            'Valid. Loss': avg_val_loss,\n",
        "            'Training Time': training_time,\n",
        "            'Validation Time': validation_time\n",
        "        }\n",
        "    )\n",
        "\n",
        "print(\"\")\n",
        "print(\"Training complete!\")\n",
        "print(\"Total training took {:} (h:mm:ss)\".format(format_time(time.time()-total_t0)))"
      ]
    },
    {
      "cell_type": "code",
      "execution_count": 22,
      "metadata": {
        "colab": {
          "base_uri": "https://localhost:8080/"
        },
        "id": "KJWYzAi2xzjE",
        "outputId": "93066f40-6fa1-43a5-e5cf-e5b88065b7a3"
      },
      "outputs": [
        {
          "name": "stdout",
          "output_type": "stream",
          "text": [
            "tensor([[50259, 26495, 12912,   374,  5126, 20853,   287, 24208, 50261, 48797,\n",
            "         18873, 13135, 50261,    82, 35652, 50261,  7050, 50261,   501, 34896,\n",
            "         50261,   293,  2144, 24314,   357, 25968,     8, 50261, 48797,   374,\n",
            "          5126, 20853,   357, 25968,     8, 50260, 50257]])\n"
          ]
        }
      ],
      "source": [
        "itera = iter(validation_dataloader)\n",
        "for i in range(np.random.randint(1, len(validation_dataloader)-1)):\n",
        "  next(itera)\n",
        "\n",
        "example = next(itera)[0][0]\n",
        "ing_end_tok = tokenizer.encode('<|endofing|>')[0]\n",
        "pad_tok = tokenizer.encode('<|pad|>')\n",
        "\n",
        "b = example == ing_end_tok\n",
        "loc = b.nonzero()[0] + 2\n",
        "\n",
        "input_ex = tokenizer.decode(example[:loc])\n",
        "input_ex = torch.LongTensor(tokenizer.encode(input_ex))#, padding=\"max_length\", max_length=850))\n",
        "input_ex = torch.reshape(input_ex, [1, len(input_ex)])\n",
        "\n",
        "print(input_ex)"
      ]
    },
    {
      "cell_type": "code",
      "execution_count": 23,
      "metadata": {
        "colab": {
          "base_uri": "https://localhost:8080/"
        },
        "id": "ZGYQ3bJp06xG",
        "outputId": "bca5d08b-648a-4319-86f8-c9d8d43a54f3"
      },
      "outputs": [
        {
          "name": "stdout",
          "output_type": "stream",
          "text": [
            "torch.Size([2, 37])\n"
          ]
        }
      ],
      "source": [
        "input_ex = torch.cat([input_ex, input_ex], 0)\n",
        "print(input_ex.shape)"
      ]
    },
    {
      "cell_type": "code",
      "execution_count": 24,
      "metadata": {
        "colab": {
          "base_uri": "https://localhost:8080/"
        },
        "id": "y_Y9S6Q_Tsan",
        "outputId": "4d289720-d453-48a7-d659-fcae2694cee1"
      },
      "outputs": [
        {
          "name": "stderr",
          "output_type": "stream",
          "text": [
            "Setting `pad_token_id` to `eos_token_id`:50256 for open-end generation.\n"
          ]
        },
        {
          "name": "stdout",
          "output_type": "stream",
          "text": [
            "0: <|startofing|> package frozen raspberries in syrup <|ingseparator|> fresh lemon juice <|ingseparator|> sugar <|ingseparator|> water <|ingseparator|> ice cubes <|ingseparator|> lemon slices (optional) <|ingseparator|> fresh raspberries (optional) <|endofing|> <|startoftext|> In a large bowl, stir together frozen raspberries, raspberries and lemon juice until thoroughly combined. In a blender, blend until smooth. Strain through a fine mesh strainer. Set aside. Chill raspberries for at least 1 hour. In a pitcher with an ice-water scoop, stir in 1 tablespoon sugar and 1 tablespoon water until sugar has dissolved. Add raspberries and lemon slices. Stir in raspberries. Chill thoroughly, stirring occasionally, until thickened, at least 1 hour.\n",
            "In a pitcher with an ice-water scoop, stir in 1 tablespoon sugar and 1 tablespoon water until sugar has dissolved. Add raspberries and lemon slices. Stir in raspberries. Chill thoroughly, stirring occasionally, until thickened, at least 1 hour.<|endoftext|>\n",
            "1: <|startofing|> package frozen raspberries in syrup <|ingseparator|> fresh lemon juice <|ingseparator|> sugar <|ingseparator|> water <|ingseparator|> ice cubes <|ingseparator|> lemon slices (optional) <|ingseparator|> fresh raspberries (optional) <|endofing|> <|startoftext|> Pour the strawberries and orange-orange juices over ice, stir, cover and refrigerate for 1 hour, or until the raspberries soften and the juices run clear. Pour the mixture through a sieve into a pitcher, and chill at least one hour. Stir in the sugar, and refrigerate for up to 24 hours. Add the water and ice cubes, and stir to combine. Pour into 4 parfait glasses, pour the raspberries into them and garnish with lemon slices and raspberries.\n",
            "Photograph by Con Poulos<|endoftext|><|endoftext|><|endoftext|><|endoftext|><|endoftext|><|endoftext|><|endoftext|><|endoftext|><|endoftext|><|endoftext|><|endoftext|><|endoftext|><|endoftext|><|endoftext|><|endoftext|><|endoftext|><|endoftext|><|endoftext|><|endoftext|><|endoftext|><|endoftext|><|endoftext|><|endoftext|><|endoftext|><|endoftext|><|endoftext|><|endoftext|><|endoftext|><|endoftext|><|endoftext|><|endoftext|><|endoftext|><|endoftext|><|endoftext|><|endoftext|><|endoftext|><|endoftext|><|endoftext|><|endoftext|><|endoftext|><|endoftext|><|endoftext|><|endoftext|><|endoftext|><|endoftext|><|endoftext|><|endoftext|><|endoftext|>\n"
          ]
        }
      ],
      "source": [
        "model = model.to(device)\n",
        "s_input_ids = input_ex.to(device)\n",
        "\n",
        "t0 = time.time()\n",
        "\n",
        "model.eval()\n",
        "\n",
        "sample_outputs = model.generate(\n",
        "    s_input_ids,#bos_token_id=random.randint(1,30000),\n",
        "    do_sample=True,   \n",
        "    top_k=50, max_length = 200, top_p=0.95, num_return_sequences=1\n",
        "                    )\n",
        "\n",
        "for i, sample_output in enumerate(sample_outputs):\n",
        "      print(\"{}: {}\".format(i, tokenizer.decode(sample_output, skip_special_tokens=False)))\n"
      ]
    },
    {
      "cell_type": "code",
      "execution_count": null,
      "metadata": {
        "id": "z6c4Vrzw9B_z"
      },
      "outputs": [],
      "source": []
    }
  ],
  "metadata": {
    "accelerator": "GPU",
    "colab": {
      "collapsed_sections": [],
      "name": "Ingreidents_GPT_Finetuning (1).ipynb",
      "provenance": []
    },
    "interpreter": {
      "hash": "31f2aee4e71d21fbe5cf8b01ff0e069b9275f58929596ceb00d14d90e3e16cd6"
    },
    "kernelspec": {
      "display_name": "Python 3.8.9 64-bit",
      "language": "python",
      "name": "python3"
    },
    "language_info": {
      "codemirror_mode": {
        "name": "ipython",
        "version": 3
      },
      "file_extension": ".py",
      "mimetype": "text/x-python",
      "name": "python",
      "nbconvert_exporter": "python",
      "pygments_lexer": "ipython3",
      "version": "3.8.9"
    },
    "widgets": {
      "application/vnd.jupyter.widget-state+json": {
        "1ef5407594704c4dbb3702672bc29a4d": {
          "model_module": "@jupyter-widgets/base",
          "model_module_version": "1.2.0",
          "model_name": "LayoutModel",
          "state": {
            "_model_module": "@jupyter-widgets/base",
            "_model_module_version": "1.2.0",
            "_model_name": "LayoutModel",
            "_view_count": null,
            "_view_module": "@jupyter-widgets/base",
            "_view_module_version": "1.2.0",
            "_view_name": "LayoutView",
            "align_content": null,
            "align_items": null,
            "align_self": null,
            "border": null,
            "bottom": null,
            "display": null,
            "flex": null,
            "flex_flow": null,
            "grid_area": null,
            "grid_auto_columns": null,
            "grid_auto_flow": null,
            "grid_auto_rows": null,
            "grid_column": null,
            "grid_gap": null,
            "grid_row": null,
            "grid_template_areas": null,
            "grid_template_columns": null,
            "grid_template_rows": null,
            "height": null,
            "justify_content": null,
            "justify_items": null,
            "left": null,
            "margin": null,
            "max_height": null,
            "max_width": null,
            "min_height": null,
            "min_width": null,
            "object_fit": null,
            "object_position": null,
            "order": null,
            "overflow": null,
            "overflow_x": null,
            "overflow_y": null,
            "padding": null,
            "right": null,
            "top": null,
            "visibility": null,
            "width": null
          }
        },
        "4118b7bfee1a481d9b8377745a3f97ca": {
          "model_module": "@jupyter-widgets/base",
          "model_module_version": "1.2.0",
          "model_name": "LayoutModel",
          "state": {
            "_model_module": "@jupyter-widgets/base",
            "_model_module_version": "1.2.0",
            "_model_name": "LayoutModel",
            "_view_count": null,
            "_view_module": "@jupyter-widgets/base",
            "_view_module_version": "1.2.0",
            "_view_name": "LayoutView",
            "align_content": null,
            "align_items": null,
            "align_self": null,
            "border": null,
            "bottom": null,
            "display": null,
            "flex": null,
            "flex_flow": null,
            "grid_area": null,
            "grid_auto_columns": null,
            "grid_auto_flow": null,
            "grid_auto_rows": null,
            "grid_column": null,
            "grid_gap": null,
            "grid_row": null,
            "grid_template_areas": null,
            "grid_template_columns": null,
            "grid_template_rows": null,
            "height": null,
            "justify_content": null,
            "justify_items": null,
            "left": null,
            "margin": null,
            "max_height": null,
            "max_width": null,
            "min_height": null,
            "min_width": null,
            "object_fit": null,
            "object_position": null,
            "order": null,
            "overflow": null,
            "overflow_x": null,
            "overflow_y": null,
            "padding": null,
            "right": null,
            "top": null,
            "visibility": null,
            "width": null
          }
        },
        "42f093f7f9fe408083a68a6bc7fe71e9": {
          "model_module": "@jupyter-widgets/controls",
          "model_module_version": "1.5.0",
          "model_name": "FloatProgressModel",
          "state": {
            "_dom_classes": [],
            "_model_module": "@jupyter-widgets/controls",
            "_model_module_version": "1.5.0",
            "_model_name": "FloatProgressModel",
            "_view_count": null,
            "_view_module": "@jupyter-widgets/controls",
            "_view_module_version": "1.5.0",
            "_view_name": "ProgressView",
            "bar_style": "success",
            "description": "",
            "description_tooltip": null,
            "layout": "IPY_MODEL_726a4e4ff7434e95bba9ffff6021c51a",
            "max": 665,
            "min": 0,
            "orientation": "horizontal",
            "style": "IPY_MODEL_499f3d4709124d4199c6bcc2ae47769b",
            "value": 665
          }
        },
        "44c918049e11447eb515a33579615a03": {
          "model_module": "@jupyter-widgets/base",
          "model_module_version": "1.2.0",
          "model_name": "LayoutModel",
          "state": {
            "_model_module": "@jupyter-widgets/base",
            "_model_module_version": "1.2.0",
            "_model_name": "LayoutModel",
            "_view_count": null,
            "_view_module": "@jupyter-widgets/base",
            "_view_module_version": "1.2.0",
            "_view_name": "LayoutView",
            "align_content": null,
            "align_items": null,
            "align_self": null,
            "border": null,
            "bottom": null,
            "display": null,
            "flex": null,
            "flex_flow": null,
            "grid_area": null,
            "grid_auto_columns": null,
            "grid_auto_flow": null,
            "grid_auto_rows": null,
            "grid_column": null,
            "grid_gap": null,
            "grid_row": null,
            "grid_template_areas": null,
            "grid_template_columns": null,
            "grid_template_rows": null,
            "height": null,
            "justify_content": null,
            "justify_items": null,
            "left": null,
            "margin": null,
            "max_height": null,
            "max_width": null,
            "min_height": null,
            "min_width": null,
            "object_fit": null,
            "object_position": null,
            "order": null,
            "overflow": null,
            "overflow_x": null,
            "overflow_y": null,
            "padding": null,
            "right": null,
            "top": null,
            "visibility": null,
            "width": null
          }
        },
        "499f3d4709124d4199c6bcc2ae47769b": {
          "model_module": "@jupyter-widgets/controls",
          "model_module_version": "1.5.0",
          "model_name": "ProgressStyleModel",
          "state": {
            "_model_module": "@jupyter-widgets/controls",
            "_model_module_version": "1.5.0",
            "_model_name": "ProgressStyleModel",
            "_view_count": null,
            "_view_module": "@jupyter-widgets/base",
            "_view_module_version": "1.2.0",
            "_view_name": "StyleView",
            "bar_color": null,
            "description_width": ""
          }
        },
        "49b28fffe9a54c548068e36e07fd95c2": {
          "model_module": "@jupyter-widgets/controls",
          "model_module_version": "1.5.0",
          "model_name": "HBoxModel",
          "state": {
            "_dom_classes": [],
            "_model_module": "@jupyter-widgets/controls",
            "_model_module_version": "1.5.0",
            "_model_name": "HBoxModel",
            "_view_count": null,
            "_view_module": "@jupyter-widgets/controls",
            "_view_module_version": "1.5.0",
            "_view_name": "HBoxView",
            "box_style": "",
            "children": [
              "IPY_MODEL_f7761ffa70b74a85a6379cbb5828d51a",
              "IPY_MODEL_42f093f7f9fe408083a68a6bc7fe71e9",
              "IPY_MODEL_cd65c557b0784217a8287c7a4bc790f5"
            ],
            "layout": "IPY_MODEL_4118b7bfee1a481d9b8377745a3f97ca"
          }
        },
        "726a4e4ff7434e95bba9ffff6021c51a": {
          "model_module": "@jupyter-widgets/base",
          "model_module_version": "1.2.0",
          "model_name": "LayoutModel",
          "state": {
            "_model_module": "@jupyter-widgets/base",
            "_model_module_version": "1.2.0",
            "_model_name": "LayoutModel",
            "_view_count": null,
            "_view_module": "@jupyter-widgets/base",
            "_view_module_version": "1.2.0",
            "_view_name": "LayoutView",
            "align_content": null,
            "align_items": null,
            "align_self": null,
            "border": null,
            "bottom": null,
            "display": null,
            "flex": null,
            "flex_flow": null,
            "grid_area": null,
            "grid_auto_columns": null,
            "grid_auto_flow": null,
            "grid_auto_rows": null,
            "grid_column": null,
            "grid_gap": null,
            "grid_row": null,
            "grid_template_areas": null,
            "grid_template_columns": null,
            "grid_template_rows": null,
            "height": null,
            "justify_content": null,
            "justify_items": null,
            "left": null,
            "margin": null,
            "max_height": null,
            "max_width": null,
            "min_height": null,
            "min_width": null,
            "object_fit": null,
            "object_position": null,
            "order": null,
            "overflow": null,
            "overflow_x": null,
            "overflow_y": null,
            "padding": null,
            "right": null,
            "top": null,
            "visibility": null,
            "width": null
          }
        },
        "9bcae110536e4d478d23dd2975dab294": {
          "model_module": "@jupyter-widgets/controls",
          "model_module_version": "1.5.0",
          "model_name": "DescriptionStyleModel",
          "state": {
            "_model_module": "@jupyter-widgets/controls",
            "_model_module_version": "1.5.0",
            "_model_name": "DescriptionStyleModel",
            "_view_count": null,
            "_view_module": "@jupyter-widgets/base",
            "_view_module_version": "1.2.0",
            "_view_name": "StyleView",
            "description_width": ""
          }
        },
        "ccaa53fb261c46f893b4f2aa366f01d3": {
          "model_module": "@jupyter-widgets/controls",
          "model_module_version": "1.5.0",
          "model_name": "DescriptionStyleModel",
          "state": {
            "_model_module": "@jupyter-widgets/controls",
            "_model_module_version": "1.5.0",
            "_model_name": "DescriptionStyleModel",
            "_view_count": null,
            "_view_module": "@jupyter-widgets/base",
            "_view_module_version": "1.2.0",
            "_view_name": "StyleView",
            "description_width": ""
          }
        },
        "cd65c557b0784217a8287c7a4bc790f5": {
          "model_module": "@jupyter-widgets/controls",
          "model_module_version": "1.5.0",
          "model_name": "HTMLModel",
          "state": {
            "_dom_classes": [],
            "_model_module": "@jupyter-widgets/controls",
            "_model_module_version": "1.5.0",
            "_model_name": "HTMLModel",
            "_view_count": null,
            "_view_module": "@jupyter-widgets/controls",
            "_view_module_version": "1.5.0",
            "_view_name": "HTMLView",
            "description": "",
            "description_tooltip": null,
            "layout": "IPY_MODEL_1ef5407594704c4dbb3702672bc29a4d",
            "placeholder": "​",
            "style": "IPY_MODEL_9bcae110536e4d478d23dd2975dab294",
            "value": " 665/665 [00:00&lt;00:00, 14.7kB/s]"
          }
        },
        "f7761ffa70b74a85a6379cbb5828d51a": {
          "model_module": "@jupyter-widgets/controls",
          "model_module_version": "1.5.0",
          "model_name": "HTMLModel",
          "state": {
            "_dom_classes": [],
            "_model_module": "@jupyter-widgets/controls",
            "_model_module_version": "1.5.0",
            "_model_name": "HTMLModel",
            "_view_count": null,
            "_view_module": "@jupyter-widgets/controls",
            "_view_module_version": "1.5.0",
            "_view_name": "HTMLView",
            "description": "",
            "description_tooltip": null,
            "layout": "IPY_MODEL_44c918049e11447eb515a33579615a03",
            "placeholder": "​",
            "style": "IPY_MODEL_ccaa53fb261c46f893b4f2aa366f01d3",
            "value": "Downloading: 100%"
          }
        }
      }
    }
  },
  "nbformat": 4,
  "nbformat_minor": 0
}
